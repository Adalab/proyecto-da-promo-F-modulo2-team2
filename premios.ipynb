{
 "cells": [
  {
   "cell_type": "code",
   "execution_count": null,
   "metadata": {},
   "outputs": [],
   "source": [
    "from bs4 import BeautifulSoup\n",
    "import requests\n",
    "import pandas as pd\n",
    "import re"
   ]
  },
  {
   "cell_type": "code",
   "execution_count": null,
   "metadata": {},
   "outputs": [],
   "source": [
    "def sacar_tabla(url):\n",
    "    resul_premios = requests.get(url)\n",
    "\n",
    "    print(\"La respuesta de la petición es:\", resul_premios.status_code)\n",
    "\n",
    "    sopa = BeautifulSoup(resul_premios.content, 'html.parser')\n",
    "\n",
    "    tabla = sopa.find_all(\"tbody\")[2]\n",
    "\n",
    "    encabezado = [\"Fecha de la ceremonia\", \"Mejor película\", \"Mejor director\", \"Mejor actor\", \"Mejor actriz\"]\n",
    "\n",
    "    filas = tabla.find_all(\"tr\")\n",
    "\n",
    "    result_premios = []\n",
    "\n",
    "    for fila in filas[1:]: #Filas sin la cabecera\n",
    "        fila_limpia = fila.text.split(\"\\n\")\n",
    "        #print(fila_limpia[3:12:2]) # --> Entre paréntesis sale en qué pelicula\n",
    "        #Comenzamos en el elemento 3 que es cuando se celebra y acabamos en el 11 que es la actriz\n",
    "        result_premios.append(fila_limpia[3:12:2]) \n",
    "    \n",
    "    \n",
    "    for indice_lista, lista in enumerate(result_premios):\n",
    "        \n",
    "        for indice_elemento, elemento in enumerate(lista):\n",
    "            print(\"el elemento es \",elemento)\n",
    "            if indice_elemento == 0:\n",
    "                anio = re.search(r'\\d{4}',elemento)\n",
    "                #print(anio.group())\n",
    "                result_premios[indice_lista][indice_elemento] = anio.group()\n",
    "                \n",
    "            else:  \n",
    "                adios_peli = elemento.split(\"(\")\n",
    "                result_premios[indice_lista][indice_elemento] = adios_peli[0]\n",
    "                longitud=len(result_premios)\n",
    "           \n",
    "            \n",
    "    #Creamos una lista vacia llamada 'lista_tupla_resultados_premios', recorremos el result_premios con el for y\n",
    "    #Vamos haciendo tuplas por cada elemento de la lista de result_premios\n",
    "    #y la vamos agregando a lista_tupla_resultados_premios.\n",
    "\n",
    "    lista_tupla_resultados_premios=[]\n",
    "    for i in result_premios:\n",
    "        tupla_result_premios = tuple(i)\n",
    "        lista_tupla_resultados_premios.append(tupla_result_premios)\n",
    "    print(\"La lista de tuplas es\",lista_tupla_resultados_premios)\n",
    "    #return encabezado, result_premios\n",
    "    return encabezado, lista_tupla_resultados_premios\n",
    "\n"
   ]
  },
  {
   "cell_type": "code",
   "execution_count": null,
   "metadata": {},
   "outputs": [],
   "source": [
    "url_premios = f\"https://es.wikipedia.org/wiki/Premios_%C3%93scar\"\n",
    "sacar_tabla(url_premios)"
   ]
  },
  {
   "cell_type": "code",
   "execution_count": null,
   "metadata": {},
   "outputs": [],
   "source": [
    "url_premios = f\"https://es.wikipedia.org/wiki/Premios_%C3%93scar\"\n",
    "\n",
    "resultado_premios = requests.get(url_premios)\n",
    "\n",
    "resultado_premios.status_code"
   ]
  },
  {
   "cell_type": "code",
   "execution_count": null,
   "metadata": {},
   "outputs": [],
   "source": [
    "sopa = BeautifulSoup(resultado_premios.content, 'html.parser')\n",
    "\n",
    "tabla = sopa.find_all(\"tbody\")[2]\n",
    "#tabla\n",
    "cabecera = sopa.find_all(\"th\")\n",
    "cabecera"
   ]
  },
  {
   "cell_type": "code",
   "execution_count": null,
   "metadata": {},
   "outputs": [],
   "source": [
    "filas = tabla.find_all(\"tr\")\n"
   ]
  },
  {
   "cell_type": "code",
   "execution_count": null,
   "metadata": {},
   "outputs": [],
   "source": [
    "lista_cabecera = []\n",
    "resultados_premios = []\n",
    "\n",
    "for fila in filas[1:]: #Filas sin la cabecera\n",
    "    fila_limpia = fila.text.split(\"\\n\")\n",
    "    #print(fila_limpia[3:12:2]) # --> Entre paréntesis sale en qué pelicula\n",
    "    #Comenzamos en el elemento 3 que es cuando se celebra y acabamos en el 11 que es la actriz\n",
    "    resultados_premios.append(fila_limpia[3:12:2]) \n",
    "\n",
    "for indice_lista, lista in enumerate(resultados_premios):\n",
    "\n",
    "        for indice_elemento, elemento in enumerate(lista):\n",
    "            if indice_elemento == 0:\n",
    "                anio = re.search(r'\\d{4}',elemento)\n",
    "                #print(anio.group())\n",
    "                resultados_premios[indice_lista][indice_elemento] = anio.group()\n",
    "        \n",
    "            else:  \n",
    "                adios_peli = elemento.split(\"(\")\n",
    "                resultados_premios[indice_lista][indice_elemento] = adios_peli[0]"
   ]
  },
  {
   "cell_type": "code",
   "execution_count": null,
   "metadata": {},
   "outputs": [],
   "source": [
    "df_premios = pd.DataFrame(resultados_premios)\n",
    "\n",
    "encabezado_premios = [\"Fecha de la ceremonia\", \"Mejor película\", \"Mejor director\", \"Mejor actor\", \"Mejor actriz\"]\n",
    "\n",
    "df_premios.columns = encabezado_premios\n",
    "\n",
    "df_premios.head()"
   ]
  }
 ],
 "metadata": {
  "kernelspec": {
   "display_name": "base",
   "language": "python",
   "name": "python3"
  },
  "language_info": {
   "codemirror_mode": {
    "name": "ipython",
    "version": 3
   },
   "file_extension": ".py",
   "mimetype": "text/x-python",
   "name": "python",
   "nbconvert_exporter": "python",
   "pygments_lexer": "ipython3",
   "version": "3.9.7"
  }
 },
 "nbformat": 4,
 "nbformat_minor": 2
}
