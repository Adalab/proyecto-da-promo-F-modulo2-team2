{
 "cells": [
  {
   "cell_type": "code",
   "execution_count": 2,
   "metadata": {},
   "outputs": [],
   "source": [
    "from selenium import webdriver \n",
    "from webdriver_manager.chrome import ChromeDriverManager\n",
    "from selenium.webdriver.common.keys import Keys\n",
    "from selenium.webdriver.support.ui import Select\n",
    "from datetime import datetime\n",
    "from time import sleep"
   ]
  },
  {
   "cell_type": "code",
   "execution_count": 3,
   "metadata": {},
   "outputs": [],
   "source": [
    "import requests\n",
    "import pandas as pd"
   ]
  },
  {
   "cell_type": "code",
   "execution_count": 4,
   "metadata": {},
   "outputs": [
    {
     "name": "stdout",
     "output_type": "stream",
     "text": [
      "Jahrgang 45\n",
      "tt0059325\n"
     ]
    }
   ],
   "source": [
    "archivo_peliculas = pd.read_csv(\"TOTAL_PELICULAS_SHORTS.csv\")\n",
    "print(archivo_peliculas[\"Título\"][0])\n",
    "print(archivo_peliculas[\"ID\"][0])\n",
    "    "
   ]
  },
  {
   "cell_type": "code",
   "execution_count": 33,
   "metadata": {},
   "outputs": [
    {
     "name": "stdout",
     "output_type": "stream",
     "text": [
      "[('--', '3--', 'Devin FromerMiguel Rodriguez', 'Devin FromerMiguel Rodriguez', 'When his best friend is murdered in cold blood, Michael must try and figure out who did it and bring them justice.', '2h 19m', 'Streets')]\n"
     ]
    }
   ],
   "source": [
    "driver = webdriver.Chrome()\n",
    "driver.maximize_window()\n",
    "sleep(2)\n",
    "lista_tupla = []\n",
    "\n",
    "for eleccion_peli in archivo_peliculas[\"ID\"][263000:263010]:    \n",
    "    \n",
    "    url = \"https://www.imdb.com/\"\n",
    "    sleep(2)\n",
    "    driver.get(url)\n",
    "\n",
    "    sleep(2)\n",
    "    driver.find_element(\"css selector\", \"#suggestion-search\").send_keys(eleccion_peli, Keys.ENTER)\n",
    "\n",
    "    #Puntuación IMBD\n",
    "    try:\n",
    "        puntuacion = driver.find_element(\"css selector\", \"#__next > main > div > section.ipc-page-background.ipc-page-background--base.sc-304f99f6-0.eaRXHu > section > div:nth-child(4) > section > section > div.sc-e226b0e3-3.jJsEuz > div.sc-3a4309f8-0.fjtZsE.sc-dffc6c81-1.fJrHDo > div > div:nth-child(1) > a > span > div > div.sc-bde20123-0.gtEgaf > div.sc-bde20123-2.gYgHoj > span.sc-bde20123-1.iZlgcd\").text\n",
    "    except:\n",
    "        #try:\n",
    "\n",
    "        puntuacion = \"--\"\n",
    "    try: #Con fotos\n",
    "        direccion = driver.find_element(\"css selector\", \"#__next > main > div > section.ipc-page-background.ipc-page-background--base.sc-304f99f6-0.eaRXHu > section > div:nth-child(4) > section > section > div.sc-e226b0e3-4.fjlSjH > div.sc-e226b0e3-6.ktaZPG > div.sc-e226b0e3-10.bALQos > section > div.sc-dffc6c81-3.jFHENY > div > ul > li:nth-child(1) > div\").text\n",
    "    except:\n",
    "        try:#Sin fotos\n",
    "            direccion = driver.find_element(\"css selector\", \"#__next > main > div > section.ipc-page-background.ipc-page-background--base.sc-304f99f6-0.eaRXHu > section > div:nth-child(4) > section > section > div.sc-e226b0e3-4.femeOx > div > div.sc-e226b0e3-10.bqLnJf > section > div.sc-dffc6c81-3.jFHENY > div > ul > li:nth-child(1) > div\").text\n",
    "        except:\n",
    "            try:#Con trailer\n",
    "                direccion = driver.find_element(\"css selector\", \"#__next > main > div > section.ipc-page-background.ipc-page-background--base.sc-304f99f6-0.eaRXHu > section > div:nth-child(4) > section > section > div.sc-e226b0e3-4.ecgcFy > div.sc-e226b0e3-6.hfusNC > div.sc-e226b0e3-10.jcOwsU > section > div.sc-dffc6c81-3.jFHENY > div > ul > li:nth-child(1) > div\").text\n",
    "            except:\n",
    "                direccion = \"--\"\n",
    "    try:\n",
    "        guionistas = driver.find_element(\"css selector\", \"#__next > main > div > section.ipc-page-background.ipc-page-background--base.sc-304f99f6-0.eaRXHu > section > div:nth-child(4) > section > section > div.sc-e226b0e3-4.fjlSjH > div.sc-e226b0e3-6.ktaZPG > div.sc-e226b0e3-10.bALQos > section > div.sc-dffc6c81-3.jFHENY > div > ul > li:nth-child(2) > div\").text\n",
    "    except:\n",
    "        try:\n",
    "            guionistas = driver.find_element(\"css selector\", \"#__next > main > div > section.ipc-page-background.ipc-page-background--base.sc-304f99f6-0.eaRXHu > section > div:nth-child(4) > section > section > div.sc-e226b0e3-4.femeOx > div > div.sc-e226b0e3-10.bqLnJf > section > div.sc-dffc6c81-3.jFHENY > div > ul > li:nth-child(2) > div\").text\n",
    "        except:\n",
    "            try:\n",
    "                guionistas = driver.find_element(\"css selector\", \"#__next > main > div > section.ipc-page-background.ipc-page-background--base.sc-304f99f6-0.eaRXHu > section > div:nth-child(4) > section > section > div.sc-e226b0e3-4.ecgcFy > div.sc-e226b0e3-6.hfusNC > div.sc-e226b0e3-10.jcOwsU > section > div.sc-dffc6c81-3.jFHENY > div > ul > li:nth-child(2) > div\").text\n",
    "            except:\n",
    "                guionistas = \"--\"\n",
    "    sleep(2)\n",
    "    try:\n",
    "        argumento = driver.find_element(\"css selector\", \"#__next > main > div > section.ipc-page-background.ipc-page-background--base.sc-304f99f6-0.eaRXHu > section > div:nth-child(4) > section > section > div.sc-e226b0e3-4.fjlSjH > div.sc-e226b0e3-6.ktaZPG > div.sc-e226b0e3-10.bALQos > section > p\").text\n",
    "    except:\n",
    "        try:\n",
    "            argumento = driver.find_element(\"css selector\", \"#__next > main > div > section.ipc-page-background.ipc-page-background--base.sc-304f99f6-0.eaRXHu > section > div:nth-child(4) > section > section > div.sc-e226b0e3-4.femeOx > div > div.sc-e226b0e3-10.bqLnJf > section > p > span.sc-466bb6c-2.eVLpWt\").text\n",
    "        except:\n",
    "            try:\n",
    "                argumento = driver.find_element(\"css selector\", \"#__next > main > div > section.ipc-page-background.ipc-page-background--base.sc-304f99f6-0.eaRXHu > section > div:nth-child(4) > section > section > div.sc-e226b0e3-4.ecgcFy > div.sc-e226b0e3-6.hfusNC > div.sc-e226b0e3-10.jcOwsU > section > p > span.sc-466bb6c-2.eVLpWt\").text\n",
    "            except:\n",
    "                argumento = \"--\"\n",
    "\n",
    "    #Algunas no tienen duración (poner condición de h y m)\n",
    "    try:\n",
    "        duracion = driver.find_element(\"css selector\", \"#__next > main > div > section.ipc-page-background.ipc-page-background--base.sc-304f99f6-0.eaRXHu > section > div:nth-child(4) > section > section > div.sc-e226b0e3-3.jJsEuz > div.sc-dffc6c81-0.iwmAVw > ul\").text.split(\"\\n\")[-1]\n",
    "        if \"m\" not in duracion or \"h\" not in duracion:\n",
    "            duracion = \"--\"\n",
    "    except:\n",
    "        duracion = \"--\"\n",
    "    try:\n",
    "        año = driver.find_element(\"css selector\", \"#__next > main > div > section.ipc-page-background.ipc-page-background--base.sc-304f99f6-0.eaRXHu > section > div:nth-child(4) > section > section > div.sc-e226b0e3-3.jJsEuz > div.sc-dffc6c81-0.iwmAVw > ul\").text.split(\"\\n\")[0]\n",
    "    except:\n",
    "        año = \"--\"\n",
    "    try:\n",
    "        nombre = driver.find_element('css selector','#__next > main > div > section.ipc-page-background.ipc-page-background--base.sc-304f99f6-0.eaRXHu > section > div:nth-child(4) > section > section > div.sc-e226b0e3-3.jJsEuz > div.sc-dffc6c81-0.iwmAVw > h1 > span').text\n",
    "    except:\n",
    "        nombre = \"--\"\n",
    "\n",
    "    url_tomatoes = \"https://www.google.com/\"\n",
    "    sleep(2)\n",
    "    driver.get(url_tomatoes)\n",
    "    #COMPROBAR SI EL NOMBRE ES EL CORRECTO\n",
    "\n",
    "    #Aceptar cookies (en la primera iteración, después no lo encontrará y pasará)\n",
    "    try:\n",
    "        driver.find_element(\"css selector\", \"#L2AGLb\").click()\n",
    "        sleep(2)\n",
    "    except:\n",
    "        pass\n",
    "\n",
    "    busqueda = nombre +  \" \" + año + \" Rotten tomatoes\"\n",
    "    # \" \" + año + \" \" + direccion + \n",
    "    driver.find_element(\"css selector\", \"#APjFqb\").send_keys(busqueda, Keys.ENTER)\n",
    "    sleep(2)\n",
    "\n",
    "    #COMPROBAR LA LISTA DE PELIS SACADAS POR GOOGLE\n",
    "    try:\n",
    "        puntuacion_tomatoes = driver.find_element(\"css selector\", \"#rso > div:nth-child(1) > div > div > div:nth-child(3) > div > span:nth-child(2)\").text.split(\" \")\n",
    "        tomate = driver.find_element(\"css selector\", \"#rso > div:nth-child(1) > div > div > div.kb0PBd.cvP2Ce.jGGQ5e > div > div > span > a > h3\").text\n",
    "        \n",
    "        if tomate == nombre:\n",
    "            for elemento in puntuacion_tomatoes:\n",
    "                if \"%\" in elemento:\n",
    "                    puntuacion2 = elemento\n",
    "                else:\n",
    "                    puntuacion2 = \"1--\"\n",
    "        else:\n",
    "            puntuacion2 = \"2--\"\n",
    "    except:\n",
    "        puntuacion2 = \"3--\"\n",
    "        \n",
    "    tupla_peli = (puntuacion, puntuacion2, direccion,guionistas,argumento,duracion, nombre)\n",
    "    lista_tupla.append(tupla_peli)\n",
    "    break\n",
    "print(lista_tupla)\n"
   ]
  },
  {
   "cell_type": "code",
   "execution_count": 32,
   "metadata": {},
   "outputs": [
    {
     "data": {
      "text/html": [
       "<div>\n",
       "<style scoped>\n",
       "    .dataframe tbody tr th:only-of-type {\n",
       "        vertical-align: middle;\n",
       "    }\n",
       "\n",
       "    .dataframe tbody tr th {\n",
       "        vertical-align: top;\n",
       "    }\n",
       "\n",
       "    .dataframe thead th {\n",
       "        text-align: right;\n",
       "    }\n",
       "</style>\n",
       "<table border=\"1\" class=\"dataframe\">\n",
       "  <thead>\n",
       "    <tr style=\"text-align: right;\">\n",
       "      <th></th>\n",
       "      <th>IMDB</th>\n",
       "      <th>RT</th>\n",
       "      <th>Direccion</th>\n",
       "      <th>Guión</th>\n",
       "      <th>Argumento</th>\n",
       "      <th>Duración</th>\n",
       "      <th>Título</th>\n",
       "    </tr>\n",
       "  </thead>\n",
       "  <tbody>\n",
       "    <tr>\n",
       "      <th>0</th>\n",
       "      <td>--</td>\n",
       "      <td>--</td>\n",
       "      <td>Devin FromerMiguel Rodriguez</td>\n",
       "      <td>Devin FromerMiguel Rodriguez</td>\n",
       "      <td>When his best friend is murdered in cold blood...</td>\n",
       "      <td>2h 19m</td>\n",
       "      <td>Streets</td>\n",
       "    </tr>\n",
       "  </tbody>\n",
       "</table>\n",
       "</div>"
      ],
      "text/plain": [
       "  IMDB  RT                     Direccion                         Guión  \\\n",
       "0   --  --  Devin FromerMiguel Rodriguez  Devin FromerMiguel Rodriguez   \n",
       "\n",
       "                                           Argumento Duración   Título  \n",
       "0  When his best friend is murdered in cold blood...   2h 19m  Streets  "
      ]
     },
     "execution_count": 32,
     "metadata": {},
     "output_type": "execute_result"
    }
   ],
   "source": [
    "df_peliculas = pd.DataFrame(lista_tupla, columns = [\"IMDB\", \"RT\", \"Direccion\", \"Guión\", \"Argumento\", \"Duración\", \"Título\"])\n",
    "df_peliculas"
   ]
  },
  {
   "cell_type": "code",
   "execution_count": 14,
   "metadata": {},
   "outputs": [],
   "source": [
    "driver.close()"
   ]
  }
 ],
 "metadata": {
  "kernelspec": {
   "display_name": "base",
   "language": "python",
   "name": "python3"
  },
  "language_info": {
   "codemirror_mode": {
    "name": "ipython",
    "version": 3
   },
   "file_extension": ".py",
   "mimetype": "text/x-python",
   "name": "python",
   "nbconvert_exporter": "python",
   "pygments_lexer": "ipython3",
   "version": "3.11.4"
  }
 },
 "nbformat": 4,
 "nbformat_minor": 2
}
