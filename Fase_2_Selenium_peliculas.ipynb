{
 "cells": [
  {
   "cell_type": "code",
   "execution_count": 2,
   "metadata": {},
   "outputs": [],
   "source": [
    "from selenium import webdriver \n",
    "from webdriver_manager.chrome import ChromeDriverManager\n",
    "from selenium.webdriver.common.keys import Keys\n",
    "from selenium.webdriver.support.ui import Select\n",
    "from datetime import datetime\n",
    "from time import sleep"
   ]
  },
  {
   "cell_type": "code",
   "execution_count": 3,
   "metadata": {},
   "outputs": [],
   "source": [
    "import requests\n",
    "import pandas as pd"
   ]
  },
  {
   "cell_type": "code",
   "execution_count": 60,
   "metadata": {},
   "outputs": [
    {
     "name": "stdout",
     "output_type": "stream",
     "text": [
      "Jahrgang 45\n",
      "tt0059325\n"
     ]
    }
   ],
   "source": [
    "archivo_peliculas = pd.read_csv(\"TOTAL_PELICULAS_SHORTS.csv\")\n",
    "print(archivo_peliculas[\"Título\"][0])\n",
    "print(archivo_peliculas[\"ID\"][0])\n",
    "    "
   ]
  },
  {
   "cell_type": "code",
   "execution_count": 67,
   "metadata": {},
   "outputs": [
    {
     "ename": "NoSuchElementException",
     "evalue": "Message: no such element: Unable to locate element: {\"method\":\"css selector\",\"selector\":\"#__next > main > div > section.ipc-page-background.ipc-page-background--base.sc-304f99f6-0.eaRXHu > section > div:nth-child(4) > section > section > div.sc-e226b0e3-4.ecgcFy > div.sc-e226b0e3-6.hfusNC > div.sc-e226b0e3-10.jcOwsU > section > div.sc-dffc6c81-3.jFHENY > div > ul > li:nth-child(1) > div > ul > li > a\"}\n  (Session info: chrome=118.0.5993.117); For documentation on this error, please visit: https://www.selenium.dev/documentation/webdriver/troubleshooting/errors#no-such-element-exception\nStacktrace:\n0   chromedriver                        0x0000000104b14510 chromedriver + 4310288\n1   chromedriver                        0x0000000104b0c4bc chromedriver + 4277436\n2   chromedriver                        0x000000010473fb6c chromedriver + 293740\n3   chromedriver                        0x0000000104785040 chromedriver + 577600\n4   chromedriver                        0x00000001047bfe60 chromedriver + 818784\n5   chromedriver                        0x0000000104778fd0 chromedriver + 528336\n6   chromedriver                        0x0000000104779e7c chromedriver + 532092\n7   chromedriver                        0x0000000104ada834 chromedriver + 4073524\n8   chromedriver                        0x0000000104ade7fc chromedriver + 4089852\n9   chromedriver                        0x0000000104adec58 chromedriver + 4090968\n10  chromedriver                        0x0000000104ae48f8 chromedriver + 4114680\n11  chromedriver                        0x0000000104adf234 chromedriver + 4092468\n12  chromedriver                        0x0000000104ab9604 chromedriver + 3937796\n13  chromedriver                        0x0000000104afbee8 chromedriver + 4210408\n14  chromedriver                        0x0000000104afc064 chromedriver + 4210788\n15  chromedriver                        0x0000000104b0c134 chromedriver + 4276532\n16  libsystem_pthread.dylib             0x000000018f087034 _pthread_start + 136\n17  libsystem_pthread.dylib             0x000000018f081e3c thread_start + 8\n",
     "output_type": "error",
     "traceback": [
      "\u001b[0;31m---------------------------------------------------------------------------\u001b[0m",
      "\u001b[0;31mNoSuchElementException\u001b[0m                    Traceback (most recent call last)",
      "\u001b[1;32m/Users/marta/Documents/adalab/modulo-2/proyecto/proyecto-da-promo-F-modulo2-team2/Fase_2_Selenium_peliculas.ipynb Cell 4\u001b[0m line \u001b[0;36m1\n\u001b[1;32m     <a href='vscode-notebook-cell:/Users/marta/Documents/adalab/modulo-2/proyecto/proyecto-da-promo-F-modulo2-team2/Fase_2_Selenium_peliculas.ipynb#W5sZmlsZQ%3D%3D?line=16'>17</a>\u001b[0m \u001b[39mtry\u001b[39;00m: \n\u001b[0;32m---> <a href='vscode-notebook-cell:/Users/marta/Documents/adalab/modulo-2/proyecto/proyecto-da-promo-F-modulo2-team2/Fase_2_Selenium_peliculas.ipynb#W5sZmlsZQ%3D%3D?line=17'>18</a>\u001b[0m     direccion \u001b[39m=\u001b[39m driver\u001b[39m.\u001b[39mfind_element(\u001b[39m\"\u001b[39m\u001b[39mcss selector\u001b[39m\u001b[39m\"\u001b[39m, \u001b[39m\"\u001b[39m\u001b[39m#__next > main > div > section.ipc-page-background.ipc-page-background--base.sc-304f99f6-0.eaRXHu > section > div:nth-child(4) > section > section > div.sc-e226b0e3-4.fjlSjH > div.sc-e226b0e3-6.ktaZPG > div.sc-e226b0e3-10.bALQos > section > div.sc-dffc6c81-3.jFHENY > div > ul > li:nth-child(1) > div\u001b[39m\u001b[39m\"\u001b[39m)\u001b[39m.\u001b[39mtext\n\u001b[1;32m     <a href='vscode-notebook-cell:/Users/marta/Documents/adalab/modulo-2/proyecto/proyecto-da-promo-F-modulo2-team2/Fase_2_Selenium_peliculas.ipynb#W5sZmlsZQ%3D%3D?line=18'>19</a>\u001b[0m \u001b[39mexcept\u001b[39;00m:\n",
      "File \u001b[0;32m~/anaconda3/lib/python3.11/site-packages/selenium/webdriver/remote/webdriver.py:738\u001b[0m, in \u001b[0;36mWebDriver.find_element\u001b[0;34m(self, by, value)\u001b[0m\n\u001b[1;32m    736\u001b[0m     value \u001b[39m=\u001b[39m \u001b[39mf\u001b[39m\u001b[39m'\u001b[39m\u001b[39m[name=\u001b[39m\u001b[39m\"\u001b[39m\u001b[39m{\u001b[39;00mvalue\u001b[39m}\u001b[39;00m\u001b[39m\"\u001b[39m\u001b[39m]\u001b[39m\u001b[39m'\u001b[39m\n\u001b[0;32m--> 738\u001b[0m \u001b[39mreturn\u001b[39;00m \u001b[39mself\u001b[39m\u001b[39m.\u001b[39mexecute(Command\u001b[39m.\u001b[39mFIND_ELEMENT, {\u001b[39m\"\u001b[39m\u001b[39musing\u001b[39m\u001b[39m\"\u001b[39m: by, \u001b[39m\"\u001b[39m\u001b[39mvalue\u001b[39m\u001b[39m\"\u001b[39m: value})[\u001b[39m\"\u001b[39m\u001b[39mvalue\u001b[39m\u001b[39m\"\u001b[39m]\n",
      "File \u001b[0;32m~/anaconda3/lib/python3.11/site-packages/selenium/webdriver/remote/webdriver.py:344\u001b[0m, in \u001b[0;36mWebDriver.execute\u001b[0;34m(self, driver_command, params)\u001b[0m\n\u001b[1;32m    343\u001b[0m \u001b[39mif\u001b[39;00m response:\n\u001b[0;32m--> 344\u001b[0m     \u001b[39mself\u001b[39m\u001b[39m.\u001b[39merror_handler\u001b[39m.\u001b[39mcheck_response(response)\n\u001b[1;32m    345\u001b[0m     response[\u001b[39m\"\u001b[39m\u001b[39mvalue\u001b[39m\u001b[39m\"\u001b[39m] \u001b[39m=\u001b[39m \u001b[39mself\u001b[39m\u001b[39m.\u001b[39m_unwrap_value(response\u001b[39m.\u001b[39mget(\u001b[39m\"\u001b[39m\u001b[39mvalue\u001b[39m\u001b[39m\"\u001b[39m, \u001b[39mNone\u001b[39;00m))\n",
      "File \u001b[0;32m~/anaconda3/lib/python3.11/site-packages/selenium/webdriver/remote/errorhandler.py:229\u001b[0m, in \u001b[0;36mErrorHandler.check_response\u001b[0;34m(self, response)\u001b[0m\n\u001b[1;32m    228\u001b[0m     \u001b[39mraise\u001b[39;00m exception_class(message, screen, stacktrace, alert_text)  \u001b[39m# type: ignore[call-arg]  # mypy is not smart enough here\u001b[39;00m\n\u001b[0;32m--> 229\u001b[0m \u001b[39mraise\u001b[39;00m exception_class(message, screen, stacktrace)\n",
      "\u001b[0;31mNoSuchElementException\u001b[0m: Message: no such element: Unable to locate element: {\"method\":\"css selector\",\"selector\":\"#__next > main > div > section.ipc-page-background.ipc-page-background--base.sc-304f99f6-0.eaRXHu > section > div:nth-child(4) > section > section > div.sc-e226b0e3-4.fjlSjH > div.sc-e226b0e3-6.ktaZPG > div.sc-e226b0e3-10.bALQos > section > div.sc-dffc6c81-3.jFHENY > div > ul > li:nth-child(1) > div\"}\n  (Session info: chrome=118.0.5993.117); For documentation on this error, please visit: https://www.selenium.dev/documentation/webdriver/troubleshooting/errors#no-such-element-exception\nStacktrace:\n0   chromedriver                        0x0000000104b14510 chromedriver + 4310288\n1   chromedriver                        0x0000000104b0c4bc chromedriver + 4277436\n2   chromedriver                        0x000000010473fb6c chromedriver + 293740\n3   chromedriver                        0x0000000104785040 chromedriver + 577600\n4   chromedriver                        0x00000001047bfe60 chromedriver + 818784\n5   chromedriver                        0x0000000104778fd0 chromedriver + 528336\n6   chromedriver                        0x0000000104779e7c chromedriver + 532092\n7   chromedriver                        0x0000000104ada834 chromedriver + 4073524\n8   chromedriver                        0x0000000104ade7fc chromedriver + 4089852\n9   chromedriver                        0x0000000104adec58 chromedriver + 4090968\n10  chromedriver                        0x0000000104ae48f8 chromedriver + 4114680\n11  chromedriver                        0x0000000104adf234 chromedriver + 4092468\n12  chromedriver                        0x0000000104ab9604 chromedriver + 3937796\n13  chromedriver                        0x0000000104afbee8 chromedriver + 4210408\n14  chromedriver                        0x0000000104afc064 chromedriver + 4210788\n15  chromedriver                        0x0000000104b0c134 chromedriver + 4276532\n16  libsystem_pthread.dylib             0x000000018f087034 _pthread_start + 136\n17  libsystem_pthread.dylib             0x000000018f081e3c thread_start + 8\n",
      "\nDuring handling of the above exception, another exception occurred:\n",
      "\u001b[0;31mNoSuchElementException\u001b[0m                    Traceback (most recent call last)",
      "\u001b[1;32m/Users/marta/Documents/adalab/modulo-2/proyecto/proyecto-da-promo-F-modulo2-team2/Fase_2_Selenium_peliculas.ipynb Cell 4\u001b[0m line \u001b[0;36m2\n\u001b[1;32m     <a href='vscode-notebook-cell:/Users/marta/Documents/adalab/modulo-2/proyecto/proyecto-da-promo-F-modulo2-team2/Fase_2_Selenium_peliculas.ipynb#W5sZmlsZQ%3D%3D?line=17'>18</a>\u001b[0m     direccion \u001b[39m=\u001b[39m driver\u001b[39m.\u001b[39mfind_element(\u001b[39m\"\u001b[39m\u001b[39mcss selector\u001b[39m\u001b[39m\"\u001b[39m, \u001b[39m\"\u001b[39m\u001b[39m#__next > main > div > section.ipc-page-background.ipc-page-background--base.sc-304f99f6-0.eaRXHu > section > div:nth-child(4) > section > section > div.sc-e226b0e3-4.fjlSjH > div.sc-e226b0e3-6.ktaZPG > div.sc-e226b0e3-10.bALQos > section > div.sc-dffc6c81-3.jFHENY > div > ul > li:nth-child(1) > div\u001b[39m\u001b[39m\"\u001b[39m)\u001b[39m.\u001b[39mtext\n\u001b[1;32m     <a href='vscode-notebook-cell:/Users/marta/Documents/adalab/modulo-2/proyecto/proyecto-da-promo-F-modulo2-team2/Fase_2_Selenium_peliculas.ipynb#W5sZmlsZQ%3D%3D?line=18'>19</a>\u001b[0m \u001b[39mexcept\u001b[39;00m:\n\u001b[0;32m---> <a href='vscode-notebook-cell:/Users/marta/Documents/adalab/modulo-2/proyecto/proyecto-da-promo-F-modulo2-team2/Fase_2_Selenium_peliculas.ipynb#W5sZmlsZQ%3D%3D?line=19'>20</a>\u001b[0m     direccion \u001b[39m=\u001b[39m driver\u001b[39m.\u001b[39mfind_element(\u001b[39m\"\u001b[39m\u001b[39mcss selector\u001b[39m\u001b[39m\"\u001b[39m, \u001b[39m\"\u001b[39m\u001b[39m#__next > main > div > section.ipc-page-background.ipc-page-background--base.sc-304f99f6-0.eaRXHu > section > div:nth-child(4) > section > section > div.sc-e226b0e3-4.ecgcFy > div.sc-e226b0e3-6.hfusNC > div.sc-e226b0e3-10.jcOwsU > section > div.sc-dffc6c81-3.jFHENY > div > ul > li:nth-child(1) > div > ul > li > a\u001b[39m\u001b[39m\"\u001b[39m)\u001b[39m.\u001b[39mtext\n\u001b[1;32m     <a href='vscode-notebook-cell:/Users/marta/Documents/adalab/modulo-2/proyecto/proyecto-da-promo-F-modulo2-team2/Fase_2_Selenium_peliculas.ipynb#W5sZmlsZQ%3D%3D?line=21'>22</a>\u001b[0m \u001b[39mtry\u001b[39;00m:\n\u001b[1;32m     <a href='vscode-notebook-cell:/Users/marta/Documents/adalab/modulo-2/proyecto/proyecto-da-promo-F-modulo2-team2/Fase_2_Selenium_peliculas.ipynb#W5sZmlsZQ%3D%3D?line=22'>23</a>\u001b[0m     guionistas \u001b[39m=\u001b[39m driver\u001b[39m.\u001b[39mfind_element(\u001b[39m\"\u001b[39m\u001b[39mcss selector\u001b[39m\u001b[39m\"\u001b[39m, \u001b[39m\"\u001b[39m\u001b[39m#__next > main > div > section.ipc-page-background.ipc-page-background--base.sc-304f99f6-0.eaRXHu > section > div:nth-child(4) > section > section > div.sc-e226b0e3-4.fjlSjH > div.sc-e226b0e3-6.ktaZPG > div.sc-e226b0e3-10.bALQos > section > div.sc-dffc6c81-3.jFHENY > div > ul > li:nth-child(2) > div\u001b[39m\u001b[39m\"\u001b[39m)\u001b[39m.\u001b[39mtext\n",
      "File \u001b[0;32m~/anaconda3/lib/python3.11/site-packages/selenium/webdriver/remote/webdriver.py:738\u001b[0m, in \u001b[0;36mWebDriver.find_element\u001b[0;34m(self, by, value)\u001b[0m\n\u001b[1;32m    735\u001b[0m     by \u001b[39m=\u001b[39m By\u001b[39m.\u001b[39mCSS_SELECTOR\n\u001b[1;32m    736\u001b[0m     value \u001b[39m=\u001b[39m \u001b[39mf\u001b[39m\u001b[39m'\u001b[39m\u001b[39m[name=\u001b[39m\u001b[39m\"\u001b[39m\u001b[39m{\u001b[39;00mvalue\u001b[39m}\u001b[39;00m\u001b[39m\"\u001b[39m\u001b[39m]\u001b[39m\u001b[39m'\u001b[39m\n\u001b[0;32m--> 738\u001b[0m \u001b[39mreturn\u001b[39;00m \u001b[39mself\u001b[39m\u001b[39m.\u001b[39mexecute(Command\u001b[39m.\u001b[39mFIND_ELEMENT, {\u001b[39m\"\u001b[39m\u001b[39musing\u001b[39m\u001b[39m\"\u001b[39m: by, \u001b[39m\"\u001b[39m\u001b[39mvalue\u001b[39m\u001b[39m\"\u001b[39m: value})[\u001b[39m\"\u001b[39m\u001b[39mvalue\u001b[39m\u001b[39m\"\u001b[39m]\n",
      "File \u001b[0;32m~/anaconda3/lib/python3.11/site-packages/selenium/webdriver/remote/webdriver.py:344\u001b[0m, in \u001b[0;36mWebDriver.execute\u001b[0;34m(self, driver_command, params)\u001b[0m\n\u001b[1;32m    342\u001b[0m response \u001b[39m=\u001b[39m \u001b[39mself\u001b[39m\u001b[39m.\u001b[39mcommand_executor\u001b[39m.\u001b[39mexecute(driver_command, params)\n\u001b[1;32m    343\u001b[0m \u001b[39mif\u001b[39;00m response:\n\u001b[0;32m--> 344\u001b[0m     \u001b[39mself\u001b[39m\u001b[39m.\u001b[39merror_handler\u001b[39m.\u001b[39mcheck_response(response)\n\u001b[1;32m    345\u001b[0m     response[\u001b[39m\"\u001b[39m\u001b[39mvalue\u001b[39m\u001b[39m\"\u001b[39m] \u001b[39m=\u001b[39m \u001b[39mself\u001b[39m\u001b[39m.\u001b[39m_unwrap_value(response\u001b[39m.\u001b[39mget(\u001b[39m\"\u001b[39m\u001b[39mvalue\u001b[39m\u001b[39m\"\u001b[39m, \u001b[39mNone\u001b[39;00m))\n\u001b[1;32m    346\u001b[0m     \u001b[39mreturn\u001b[39;00m response\n",
      "File \u001b[0;32m~/anaconda3/lib/python3.11/site-packages/selenium/webdriver/remote/errorhandler.py:229\u001b[0m, in \u001b[0;36mErrorHandler.check_response\u001b[0;34m(self, response)\u001b[0m\n\u001b[1;32m    227\u001b[0m         alert_text \u001b[39m=\u001b[39m value[\u001b[39m\"\u001b[39m\u001b[39malert\u001b[39m\u001b[39m\"\u001b[39m]\u001b[39m.\u001b[39mget(\u001b[39m\"\u001b[39m\u001b[39mtext\u001b[39m\u001b[39m\"\u001b[39m)\n\u001b[1;32m    228\u001b[0m     \u001b[39mraise\u001b[39;00m exception_class(message, screen, stacktrace, alert_text)  \u001b[39m# type: ignore[call-arg]  # mypy is not smart enough here\u001b[39;00m\n\u001b[0;32m--> 229\u001b[0m \u001b[39mraise\u001b[39;00m exception_class(message, screen, stacktrace)\n",
      "\u001b[0;31mNoSuchElementException\u001b[0m: Message: no such element: Unable to locate element: {\"method\":\"css selector\",\"selector\":\"#__next > main > div > section.ipc-page-background.ipc-page-background--base.sc-304f99f6-0.eaRXHu > section > div:nth-child(4) > section > section > div.sc-e226b0e3-4.ecgcFy > div.sc-e226b0e3-6.hfusNC > div.sc-e226b0e3-10.jcOwsU > section > div.sc-dffc6c81-3.jFHENY > div > ul > li:nth-child(1) > div > ul > li > a\"}\n  (Session info: chrome=118.0.5993.117); For documentation on this error, please visit: https://www.selenium.dev/documentation/webdriver/troubleshooting/errors#no-such-element-exception\nStacktrace:\n0   chromedriver                        0x0000000104b14510 chromedriver + 4310288\n1   chromedriver                        0x0000000104b0c4bc chromedriver + 4277436\n2   chromedriver                        0x000000010473fb6c chromedriver + 293740\n3   chromedriver                        0x0000000104785040 chromedriver + 577600\n4   chromedriver                        0x00000001047bfe60 chromedriver + 818784\n5   chromedriver                        0x0000000104778fd0 chromedriver + 528336\n6   chromedriver                        0x0000000104779e7c chromedriver + 532092\n7   chromedriver                        0x0000000104ada834 chromedriver + 4073524\n8   chromedriver                        0x0000000104ade7fc chromedriver + 4089852\n9   chromedriver                        0x0000000104adec58 chromedriver + 4090968\n10  chromedriver                        0x0000000104ae48f8 chromedriver + 4114680\n11  chromedriver                        0x0000000104adf234 chromedriver + 4092468\n12  chromedriver                        0x0000000104ab9604 chromedriver + 3937796\n13  chromedriver                        0x0000000104afbee8 chromedriver + 4210408\n14  chromedriver                        0x0000000104afc064 chromedriver + 4210788\n15  chromedriver                        0x0000000104b0c134 chromedriver + 4276532\n16  libsystem_pthread.dylib             0x000000018f087034 _pthread_start + 136\n17  libsystem_pthread.dylib             0x000000018f081e3c thread_start + 8\n"
     ]
    }
   ],
   "source": [
    "driver = webdriver.Chrome()\n",
    "driver.maximize_window()\n",
    "sleep(2)\n",
    "lista_tupla = []\n",
    "\n",
    "for eleccion_peli in archivo_peliculas[\"ID\"][1:3]:    \n",
    "    \n",
    "    url = \"https://www.imdb.com/\"\n",
    "    sleep(2)\n",
    "    driver.get(url)\n",
    "\n",
    "    sleep(2)\n",
    "    driver.find_element(\"css selector\", \"#suggestion-search\").send_keys(eleccion_peli, Keys.ENTER)\n",
    "\n",
    "    #Puntuación IMBD\n",
    "    puntuacion = driver.find_element(\"css selector\", \"#__next > main > div > section.ipc-page-background.ipc-page-background--base.sc-304f99f6-0.eaRXHu > section > div:nth-child(4) > section > section > div.sc-e226b0e3-3.jJsEuz > div.sc-3a4309f8-0.fjtZsE.sc-dffc6c81-1.fJrHDo > div > div:nth-child(1) > a > span > div > div.sc-bde20123-0.gtEgaf > div.sc-bde20123-2.gYgHoj > span.sc-bde20123-1.iZlgcd\").text\n",
    "    try: \n",
    "        direccion = driver.find_element(\"css selector\", \"#__next > main > div > section.ipc-page-background.ipc-page-background--base.sc-304f99f6-0.eaRXHu > section > div:nth-child(4) > section > section > div.sc-e226b0e3-4.fjlSjH > div.sc-e226b0e3-6.ktaZPG > div.sc-e226b0e3-10.bALQos > section > div.sc-dffc6c81-3.jFHENY > div > ul > li:nth-child(1) > div\").text\n",
    "    except:\n",
    "        direccion = driver.find_element(\"css selector\", \"#__next > main > div > section.ipc-page-background.ipc-page-background--base.sc-304f99f6-0.eaRXHu > section > div:nth-child(4) > section > section > div.sc-e226b0e3-4.ecgcFy > div.sc-e226b0e3-6.hfusNC > div.sc-e226b0e3-10.jcOwsU > section > div.sc-dffc6c81-3.jFHENY > div > ul > li:nth-child(1) > div > ul > li > a\").text\n",
    "\n",
    "    try:\n",
    "        guionistas = driver.find_element(\"css selector\", \"#__next > main > div > section.ipc-page-background.ipc-page-background--base.sc-304f99f6-0.eaRXHu > section > div:nth-child(4) > section > section > div.sc-e226b0e3-4.fjlSjH > div.sc-e226b0e3-6.ktaZPG > div.sc-e226b0e3-10.bALQos > section > div.sc-dffc6c81-3.jFHENY > div > ul > li:nth-child(2) > div\").text\n",
    "    except:\n",
    "        guionistas = driver.find_element(\"css selector\", \"#__next > main > div > section.ipc-page-background.ipc-page-background--base.sc-304f99f6-0.eaRXHu > section > div:nth-child(4) > section > section > div.sc-e226b0e3-4.ecgcFy > div.sc-e226b0e3-6.hfusNC > div.sc-e226b0e3-10.jcOwsU > section > div.sc-dffc6c81-3.jFHENY > div > ul > li:nth-child(2) > div\").text\n",
    "    sleep(4)\n",
    "\n",
    "    try:\n",
    "        argumento = driver.find_element(\"css selector\", \"#__next > main > div > section.ipc-page-background.ipc-page-background--base.sc-304f99f6-0.eaRXHu > section > div:nth-child(4) > section > section > div.sc-e226b0e3-4.fjlSjH > div.sc-e226b0e3-6.ktaZPG > div.sc-e226b0e3-10.bALQos > section > p\").text\n",
    "    except:\n",
    "        argumento = driver.find_element(\"css selector\", \"#__next > main > div > section.ipc-page-background.ipc-page-background--base.sc-304f99f6-0.eaRXHu > section > div:nth-child(4) > section > section > div.sc-e226b0e3-4.ecgcFy > div.sc-e226b0e3-6.hfusNC > div.sc-e226b0e3-10.jcOwsU > section > p\").text\n",
    "\n",
    "    #Algunas no tienen duración (poner condición de h y m)\n",
    "    duracion = driver.find_element(\"css selector\", \"#__next > main > div > section.ipc-page-background.ipc-page-background--base.sc-304f99f6-0.eaRXHu > section > div:nth-child(4) > section > section > div.sc-e226b0e3-3.jJsEuz > div.sc-dffc6c81-0.iwmAVw > ul\").text.split(\"\\n\")[-1]\n",
    "\n",
    "    año = driver.find_element(\"css selector\", \"#__next > main > div > section.ipc-page-background.ipc-page-background--base.sc-304f99f6-0.eaRXHu > section > div:nth-child(4) > section > section > div.sc-e226b0e3-3.jJsEuz > div.sc-dffc6c81-0.iwmAVw > ul\").text.split(\"\\n\")[0]\n",
    "\n",
    "    nombre = driver.find_element('css selector','#__next > main > div > section.ipc-page-background.ipc-page-background--base.sc-304f99f6-0.eaRXHu > section > div:nth-child(4) > section > section > div.sc-e226b0e3-3.jJsEuz > div.sc-dffc6c81-0.iwmAVw > h1 > span').text\n",
    "\n",
    "    url_tomatoes = \"https://www.google.com/\"\n",
    "    sleep(2)\n",
    "    driver.get(url_tomatoes)\n",
    "    #COMPROBAR SI EL NOMBRE ES EL CORRECTO\n",
    "\n",
    "    driver.find_element(\"css selector\", \"#L2AGLb\").click()\n",
    "    sleep(2)\n",
    "\n",
    "    busqueda = nombre + \" \" + año + \" \" + direccion + \" Rotten tomatoes rating\"\n",
    "    driver.find_element(\"css selector\", \"#APjFqb\").send_keys(busqueda, Keys.ENTER)\n",
    "    sleep(2)\n",
    "\n",
    "    #COMPROBAR LA LISTA DE PELIS SACADAS POR GOOGLE\n",
    "    puntuacion_tomatoes = driver.find_element(\"css selector\", \"#rso > div:nth-child(1) > div > div > div > div:nth-child(3)\").text.split(\" \")\n",
    "    for elemento in puntuacion_tomatoes:\n",
    "        if \"%\" in elemento:\n",
    "            puntuacion2 = elemento\n",
    "        else:\n",
    "            puntuacion2 = \"Desconocida\"\n",
    "\n",
    "    tupla_peli = (puntuacion, puntuacion2, direccion,guionistas,argumento,duracion, nombre)\n",
    "    lista_tupla.append(tupla_peli)\n",
    "\n",
    "print(lista_tupla)\n"
   ]
  },
  {
   "cell_type": "code",
   "execution_count": 64,
   "metadata": {},
   "outputs": [
    {
     "data": {
      "text/plain": [
       "'1990'"
      ]
     },
     "execution_count": 64,
     "metadata": {},
     "output_type": "execute_result"
    }
   ],
   "source": [
    "año"
   ]
  },
  {
   "cell_type": "code",
   "execution_count": 54,
   "metadata": {},
   "outputs": [
    {
     "name": "stdout",
     "output_type": "stream",
     "text": [
      "63%\n"
     ]
    }
   ],
   "source": [
    "#BORRAR!\n",
    "driver = webdriver.Chrome()\n",
    "\n",
    "url_tomatoes = \"https://www.google.com/\"\n",
    "sleep(2)\n",
    "driver.get(url_tomatoes)\n",
    "#COMPROBAR SI EL NOMBRE ES EL CORRECTO\n",
    "driver.find_element(\"css selector\", \"#L2AGLb\").click()\n",
    "sleep(2)\n",
    "busqueda = nombre + \" \" + año + \" Rotten tomatoes rating\"\n",
    "driver.find_element(\"css selector\", \"#APjFqb\").send_keys(busqueda, Keys.ENTER)\n",
    "sleep(2)\n",
    "\n",
    "try:\n",
    "    puntuacion_tomatoes = driver.find_element(\"css selector\", \"#rso > div:nth-child(1) > div > div > div > div:nth-child(3)\").text.split(\" \")\n",
    "    for elemento in puntuacion_tomatoes:\n",
    "        if \"%\" in elemento:\n",
    "            puntuacion2 = elemento\n",
    "    print(puntuacion2)\n",
    "except:\n",
    "    pass\n",
    "\n"
   ]
  },
  {
   "cell_type": "code",
   "execution_count": 14,
   "metadata": {},
   "outputs": [],
   "source": [
    "driver.close()"
   ]
  }
 ],
 "metadata": {
  "kernelspec": {
   "display_name": "base",
   "language": "python",
   "name": "python3"
  },
  "language_info": {
   "codemirror_mode": {
    "name": "ipython",
    "version": 3
   },
   "file_extension": ".py",
   "mimetype": "text/x-python",
   "name": "python",
   "nbconvert_exporter": "python",
   "pygments_lexer": "ipython3",
   "version": "3.11.4"
  }
 },
 "nbformat": 4,
 "nbformat_minor": 2
}
