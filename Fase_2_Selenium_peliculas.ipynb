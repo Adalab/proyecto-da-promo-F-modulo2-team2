{
 "cells": [
  {
   "cell_type": "code",
   "execution_count": null,
   "metadata": {},
   "outputs": [],
   "source": [
    "!pip install selenium\n",
    "!pip install webdriver-manager"
   ]
  },
  {
   "cell_type": "code",
   "execution_count": 1,
   "metadata": {},
   "outputs": [],
   "source": [
    "from selenium import webdriver \n",
    "from webdriver_manager.chrome import ChromeDriverManager\n",
    "from selenium.webdriver.common.keys import Keys\n",
    "from selenium.webdriver.support.ui import Select\n",
    "from datetime import datetime\n",
    "from time import sleep"
   ]
  },
  {
   "cell_type": "code",
   "execution_count": 2,
   "metadata": {},
   "outputs": [],
   "source": [
    "import requests\n",
    "import pandas as pd"
   ]
  },
  {
   "cell_type": "code",
   "execution_count": 73,
   "metadata": {},
   "outputs": [
    {
     "name": "stdout",
     "output_type": "stream",
     "text": [
      "Jahrgang 45\n",
      "tt0059325\n"
     ]
    }
   ],
   "source": [
    "archivo_peliculas = pd.read_csv(\"TOTAL_PELICULAS_SHORTS.csv\")\n",
    "print(archivo_peliculas[\"Título\"][0])\n",
    "print(archivo_peliculas[\"ID\"][0])\n",
    "    "
   ]
  },
  {
   "cell_type": "code",
   "execution_count": null,
   "metadata": {},
   "outputs": [],
   "source": [
    "for eleccion_peli in archivo_peliculas[\"ID\"]:    \n",
    "    \n",
    "    titulo = archivo_peliculas[\"Título\"]\n",
    "    print(eleccion_peli)"
   ]
  },
  {
   "cell_type": "code",
   "execution_count": 86,
   "metadata": {},
   "outputs": [
    {
     "name": "stdout",
     "output_type": "stream",
     "text": [
      "[('4.9', 'Arch Oboler', 'Arch Oboler', 'A young college student and a former G.I. on his way home from a tour in Viet Nam meet in Japan and decide to explore the country together.', 'R')]\n"
     ]
    }
   ],
   "source": [
    "driver = webdriver.Chrome()\n",
    "driver.maximize_window()\n",
    "sleep(2)\n",
    "lista_tupla = []\n",
    "url = \"https://www.imdb.com/\"\n",
    "sleep(2)\n",
    "driver.get(url)\n",
    "\n",
    "eleccion_peli = \"tt0068494\"\n",
    "sleep(2)\n",
    "driver.find_element(\"css selector\", \"#suggestion-search\").send_keys(eleccion_peli, Keys.ENTER)\n",
    "\n",
    "#Puntuación IMBD\n",
    "puntuacion = driver.find_element(\"css selector\", \"#__next > main > div > section.ipc-page-background.ipc-page-background--base.sc-304f99f6-0.eaRXHu > section > div:nth-child(4) > section > section > div.sc-e226b0e3-3.jJsEuz > div.sc-3a4309f8-0.fjtZsE.sc-dffc6c81-1.fJrHDo > div > div:nth-child(1) > a > span > div > div.sc-bde20123-0.gtEgaf > div.sc-bde20123-2.gYgHoj > span.sc-bde20123-1.iZlgcd\").text\n",
    "\n",
    "direccion = driver.find_element(\"css selector\", \"#__next > main > div > section.ipc-page-background.ipc-page-background--base.sc-304f99f6-0.eaRXHu > section > div:nth-child(4) > section > section > div.sc-e226b0e3-4.fjlSjH > div.sc-e226b0e3-6.ktaZPG > div.sc-e226b0e3-10.bALQos > section > div.sc-dffc6c81-3.jFHENY > div > ul > li:nth-child(1) > div\").text\n",
    "\n",
    "guionistas = driver.find_element(\"css selector\", \"#__next > main > div > section.ipc-page-background.ipc-page-background--base.sc-304f99f6-0.eaRXHu > section > div:nth-child(4) > section > section > div.sc-e226b0e3-4.fjlSjH > div.sc-e226b0e3-6.ktaZPG > div.sc-e226b0e3-10.bALQos > section > div.sc-dffc6c81-3.jFHENY > div > ul > li:nth-child(2) > div\").text\n",
    "sleep(4)\n",
    "argumento = driver.find_element(\"css selector\", \"#__next > main > div > section.ipc-page-background.ipc-page-background--base.sc-304f99f6-0.eaRXHu > section > div:nth-child(4) > section > section > div.sc-e226b0e3-4.fjlSjH > div.sc-e226b0e3-6.ktaZPG > div.sc-e226b0e3-10.bALQos > section > p\").text\n",
    "#tt0068494 --> Duracion R --> COGER DE NUEVO EL ENLACITO\n",
    "duracion = driver.find_element(\"css selector\", \"#__next > main > div > section.ipc-page-background.ipc-page-background--base.sc-304f99f6-0.eaRXHu > section > div:nth-child(4) > section > section > div.sc-e226b0e3-3.jJsEuz > div.sc-dffc6c81-0.iwmAVw > ul > li:nth-child(2)\").text\n",
    "#FALTA NOMBRE\n",
    "tupla_peli = (puntuacion,direccion,guionistas,argumento,duracion)\n",
    "lista_tupla.append(tupla_peli)\n",
    "\n",
    "print(lista_tupla)\n"
   ]
  },
  {
   "cell_type": "code",
   "execution_count": 85,
   "metadata": {},
   "outputs": [],
   "source": [
    "driver.close()"
   ]
  }
 ],
 "metadata": {
  "kernelspec": {
   "display_name": "base",
   "language": "python",
   "name": "python3"
  },
  "language_info": {
   "codemirror_mode": {
    "name": "ipython",
    "version": 3
   },
   "file_extension": ".py",
   "mimetype": "text/x-python",
   "name": "python",
   "nbconvert_exporter": "python",
   "pygments_lexer": "ipython3",
   "version": "3.11.4"
  }
 },
 "nbformat": 4,
 "nbformat_minor": 2
}
