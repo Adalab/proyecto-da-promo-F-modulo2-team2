{
 "cells": [
  {
   "cell_type": "code",
   "execution_count": 47,
   "metadata": {},
   "outputs": [],
   "source": [
    "from selenium import webdriver \n",
    "from webdriver_manager.chrome import ChromeDriverManager\n",
    "from selenium.webdriver.common.keys import Keys\n",
    "from selenium.webdriver.support.ui import Select\n",
    "from datetime import datetime\n",
    "from time import sleep"
   ]
  },
  {
   "cell_type": "code",
   "execution_count": 48,
   "metadata": {},
   "outputs": [],
   "source": [
    "import requests\n",
    "import pandas as pd"
   ]
  },
  {
   "cell_type": "code",
   "execution_count": 49,
   "metadata": {},
   "outputs": [],
   "source": [
    "# archivo_peliculas = pd.read_csv(\"TOTAL_PELICULAS_SHORTS.csv\")\n",
    "# print(archivo_peliculas[\"Título\"][0])\n",
    "# print(archivo_peliculas[\"ID\"][0])\n",
    "    "
   ]
  },
  {
   "cell_type": "code",
   "execution_count": 50,
   "metadata": {},
   "outputs": [],
   "source": [
    "archivo_peliculas = pd.read_csv(\"okey_action_pelis.csv\")"
   ]
  },
  {
   "cell_type": "code",
   "execution_count": 39,
   "metadata": {},
   "outputs": [
    {
     "name": "stdout",
     "output_type": "stream",
     "text": [
      "[('--', '--', 'Oliver Brackenbury', 'Benjamin Verdiccio', 'Paul, frustrated with the state of his love life, decides to model his approach on romantic comedies since they always seem to end with a happily ever after.', '3m', 'Tonight We Fall in Love')]\n"
     ]
    }
   ],
   "source": [
    "driver = webdriver.Chrome()\n",
    "driver.maximize_window()\n",
    "sleep(2)\n",
    "lista_tupla = []\n",
    "\n",
    "for eleccion_peli in archivo_peliculas[\"ID\"]:    \n",
    "\n",
    "    url = \"https://www.imdb.com/\"\n",
    "    driver.get(url)\n",
    "\n",
    "    sleep(2)\n",
    "    try:#Busca la pelicula\n",
    "        driver.find_element(\"css selector\", \"#suggestion-search\").send_keys(eleccion_peli, Keys.ENTER)\n",
    "    except:\n",
    "        pass\n",
    "    \n",
    "    #Puntuación IMBD\n",
    "    try:\n",
    "        puntuacion = driver.find_element(\"css selector\", \"#__next > main > div > section.ipc-page-background.ipc-page-background--base.sc-304f99f6-0.fSJiHR > section > div:nth-child(4) > section > section > div.sc-e226b0e3-3.dwkouE > div.sc-3a4309f8-0.bjXIAP.sc-dffc6c81-1.ehUwiL > div > div:nth-child(1) > a > span > div > div.sc-bde20123-0.dLwiNw > div.sc-bde20123-2.cdQqzc > span.sc-bde20123-1.cMEQkK\").text\n",
    "    except:\n",
    "        #NO FUNCIONA puntuacion = driver.find_element(\"css selector\", \"#__next > main > div > section.ipc-page-background.ipc-page-background--base.sc-304f99f6-0.eaRXHu > section > div:nth-child(4) > section > section > div.sc-e226b0e3-3.jJsEuz > div.sc-3a4309f8-0.fjtZsE.sc-dffc6c81-1.fJrHDo > div > div:nth-child(1) > a > span > div > div.sc-bde20123-0.gtEgaf > div.sc-bde20123-2.gYgHoj > span.sc-bde20123-1.iZlgcd\").text                                                            \n",
    "        puntuacion = \"--\"\n",
    "    try: #Con fotos\n",
    "        direccion = driver.find_element(\"css selector\", \"#__next > main > div > section.ipc-page-background.ipc-page-background--base.sc-304f99f6-0.fSJiHR > section > div:nth-child(4) > section > section > div.sc-e226b0e3-4.gdkmhg > div.sc-e226b0e3-6.aQqbp > div.sc-e226b0e3-10.kRcXhr > section > div.sc-dffc6c81-3.fhVOeP > div > ul > li:nth-child(1) > div\").text\n",
    "        #NO FUNCIONA direccion = driver.find_element(\"css selector\", \"#__next > main > div > section.ipc-page-background.ipc-page-background--base.sc-304f99f6-0.eaRXHu > section > div:nth-child(4) > section > section > div.sc-e226b0e3-4.fjlSjH > div.sc-e226b0e3-6.ktaZPG > div.sc-e226b0e3-10.bALQos > section > div.sc-dffc6c81-3.jFHENY > div > ul > li:nth-child(1) > div\").text\n",
    "    except:\n",
    "        try:#Sin fotos\n",
    "            direccion = driver.find_element(\"css selector\", \"#__next > main > div > section.ipc-page-background.ipc-page-background--base.sc-304f99f6-0.fSJiHR > section > div:nth-child(4) > section > section > div.sc-e226b0e3-4.gSyEAi > div > div.sc-e226b0e3-10.guNBPY > section > div.sc-dffc6c81-3.fhVOeP > div > ul > li:nth-child(1) > div\").text\n",
    "            #NO FUNCIONA direccion = driver.find_element(\"css selector\", \"#__next > main > div > section.ipc-page-background.ipc-page-background--base.sc-304f99f6-0.eaRXHu > section > div:nth-child(4) > section > section > div.sc-e226b0e3-4.femeOx > div > div.sc-e226b0e3-10.bqLnJf > section > div.sc-dffc6c81-3.jFHENY > div > ul > li:nth-child(1) > div\").text\n",
    "        except:\n",
    "            try:#Con trailer\n",
    "                direccion = driver.find_element(\"css selector\", \"#__next > main > div > section.ipc-page-background.ipc-page-background--base.sc-304f99f6-0.fSJiHR > section > div:nth-child(4) > section > section > div.sc-e226b0e3-4.dEqUUl > div.sc-e226b0e3-6.CUzkx > div.sc-e226b0e3-10.hbBxmX > section > div.sc-dffc6c81-3.fhVOeP > div > ul > li:nth-child(1) > div\").text\n",
    "                #NO FUNCIONA direccion = driver.find_element(\"css selector\", \"#__next > main > div > section.ipc-page-background.ipc-page-background--base.sc-304f99f6-0.eaRXHu > section > div:nth-child(4) > section > section > div.sc-e226b0e3-4.ecgcFy > div.sc-e226b0e3-6.hfusNC > div.sc-e226b0e3-10.jcOwsU > section > div.sc-dffc6c81-3.jFHENY > div > ul > li:nth-child(1) > div\").text\n",
    "            except:\n",
    "                direccion = \"--\"\n",
    "    try:\n",
    "        guionistas = driver.find_element(\"css selector\", \"#__next > main > div > section.ipc-page-background.ipc-page-background--base.sc-304f99f6-0.fSJiHR > section > div:nth-child(4) > section > section > div.sc-e226b0e3-4.gdkmhg > div.sc-e226b0e3-6.aQqbp > div.sc-e226b0e3-10.kRcXhr > section > div.sc-dffc6c81-3.fhVOeP > div > ul > li:nth-child(2) > div\").text\n",
    "        #NO FUNCIONA guionistas = driver.find_element(\"css selector\", \"#__next > main > div > section.ipc-page-background.ipc-page-background--base.sc-304f99f6-0.eaRXHu > section > div:nth-child(4) > section > section > div.sc-e226b0e3-4.fjlSjH > div.sc-e226b0e3-6.ktaZPG > div.sc-e226b0e3-10.bALQos > section > div.sc-dffc6c81-3.jFHENY > div > ul > li:nth-child(2) > div\").text\n",
    "    except:\n",
    "        try:#Sin fotos\n",
    "            guionistas = driver.find_element(\"css selector\", \"#__next > main > div > section.ipc-page-background.ipc-page-background--base.sc-304f99f6-0.fSJiHR > section > div:nth-child(4) > section > section > div.sc-e226b0e3-4.gSyEAi > div > div.sc-e226b0e3-10.guNBPY > section > div.sc-dffc6c81-3.fhVOeP > div > ul > li:nth-child(2) > div\").text\n",
    "            #NO FUNCIONA guionistas = driver.find_element(\"css selector\", \"#__next > main > div > section.ipc-page-background.ipc-page-background--base.sc-304f99f6-0.eaRXHu > section > div:nth-child(4) > section > section > div.sc-e226b0e3-4.femeOx > div > div.sc-e226b0e3-10.bqLnJf > section > div.sc-dffc6c81-3.jFHENY > div > ul > li:nth-child(2) > div\").text\n",
    "        except:\n",
    "            try:#Con trailer\n",
    "                guionistas = driver.find_element(\"css selector\", \"#__next > main > div > section.ipc-page-background.ipc-page-background--base.sc-304f99f6-0.fSJiHR > section > div:nth-child(4) > section > section > div.sc-e226b0e3-4.dEqUUl > div.sc-e226b0e3-6.CUzkx > div.sc-e226b0e3-10.hbBxmX > section > div.sc-dffc6c81-3.fhVOeP > div > ul > li:nth-child(2) > div\").text\n",
    "                #NO FUNCIONA guionistas = driver.find_element(\"css selector\", \"#__next > main > div > section.ipc-page-background.ipc-page-background--base.sc-304f99f6-0.eaRXHu > section > div:nth-child(4) > section > section > div.sc-e226b0e3-4.ecgcFy > div.sc-e226b0e3-6.hfusNC > div.sc-e226b0e3-10.jcOwsU > section > div.sc-dffc6c81-3.jFHENY > div > ul > li:nth-child(2) > div\").text\n",
    "            except:\n",
    "                guionistas = \"--\"\n",
    "    sleep(2)\n",
    "    try:\n",
    "        argumento = driver.find_element(\"css selector\", \"#__next > main > div > section.ipc-page-background.ipc-page-background--base.sc-304f99f6-0.fSJiHR > section > div:nth-child(4) > section > section > div.sc-e226b0e3-4.gdkmhg > div.sc-e226b0e3-6.aQqbp > div.sc-e226b0e3-10.kRcXhr > section > p\").text\n",
    "        #NO FUNCIONA argumento = driver.find_element(\"css selector\", \"#__next > main > div > section.ipc-page-background.ipc-page-background--base.sc-304f99f6-0.eaRXHu > section > div:nth-child(4) > section > section > div.sc-e226b0e3-4.fjlSjH > div.sc-e226b0e3-6.ktaZPG > div.sc-e226b0e3-10.bALQos > section > p\").text\n",
    "    except:\n",
    "        try:#Sin fotos\n",
    "            argumento = driver.find_element(\"css selector\", \"#__next > main > div > section.ipc-page-background.ipc-page-background--base.sc-304f99f6-0.fSJiHR > section > div:nth-child(4) > section > section > div.sc-e226b0e3-4.gSyEAi > div > div.sc-e226b0e3-10.guNBPY > section > p > span.sc-466bb6c-2.chnFO\").text\n",
    "            #NO FUNCIONA argumento = driver.find_element(\"css selector\", \"#__next > main > div > section.ipc-page-background.ipc-page-background--base.sc-304f99f6-0.eaRXHu > section > div:nth-child(4) > section > section > div.sc-e226b0e3-4.femeOx > div > div.sc-e226b0e3-10.bqLnJf > section > p > span.sc-466bb6c-2.eVLpWt\").text\n",
    "        except:\n",
    "            try:#Con trailer\n",
    "                argumento = driver.find_element(\"css selector\", \"#__next > main > div > section.ipc-page-background.ipc-page-background--base.sc-304f99f6-0.fSJiHR > section > div:nth-child(4) > section > section > div.sc-e226b0e3-4.dEqUUl > div.sc-e226b0e3-6.CUzkx > div.sc-e226b0e3-10.hbBxmX > section > p > span.sc-466bb6c-2.chnFO\").text\n",
    "                #NO FUNCIONA argumento = driver.find_element(\"css selector\", \"#__next > main > div > section.ipc-page-background.ipc-page-background--base.sc-304f99f6-0.eaRXHu > section > div:nth-child(4) > section > section > div.sc-e226b0e3-4.ecgcFy > div.sc-e226b0e3-6.hfusNC > div.sc-e226b0e3-10.jcOwsU > section > p > span.sc-466bb6c-2.eVLpWt\").text\n",
    "            except:\n",
    "                argumento = \"--\"\n",
    "\n",
    "    #Algunas no tienen duración (por eso hemos puesto la condición de h y m)\n",
    "    try:\n",
    "        duracion = driver.find_element(\"css selector\", \"#__next > main > div > section.ipc-page-background.ipc-page-background--base.sc-304f99f6-0.fSJiHR > section > div:nth-child(4) > section > section > div.sc-e226b0e3-3.dwkouE > div.sc-dffc6c81-0.grcyBP > ul\").text.split(\"\\n\")[-1]\n",
    "        #NO FUNCIONA duracion = driver.find_element(\"css selector\", \"#__next > main > div > section.ipc-page-background.ipc-page-background--base.sc-304f99f6-0.eaRXHu > section > div:nth-child(4) > section > section > div.sc-e226b0e3-3.jJsEuz > div.sc-dffc6c81-0.iwmAVw > ul\").text.split(\"\\n\")[-1]\n",
    "        if \"m\" not in duracion and \"h\" not in duracion:  \n",
    "            duracion = \"min--\"\n",
    "    except:\n",
    "        duracion = \"--\"\n",
    "    try:\n",
    "        año = driver.find_element(\"css selector\", \"#__next > main > div > section.ipc-page-background.ipc-page-background--base.sc-304f99f6-0.fSJiHR > section > div:nth-child(4) > section > section > div.sc-e226b0e3-3.dwkouE > div.sc-dffc6c81-0.grcyBP > ul\").text.split(\"\\n\")[0]\n",
    "        #NO FUNCIONA año = driver.find_element(\"css selector\", \"#__next > main > div > section.ipc-page-background.ipc-page-background--base.sc-304f99f6-0.eaRXHu > section > div:nth-child(4) > section > section > div.sc-e226b0e3-3.jJsEuz > div.sc-dffc6c81-0.iwmAVw > ul\").text.split(\"\\n\")[0]\n",
    "    except:\n",
    "        año = \"--\"\n",
    "    try:\n",
    "        nombre = driver.find_element('css selector','#__next > main > div > section.ipc-page-background.ipc-page-background--base.sc-304f99f6-0.fSJiHR > section > div:nth-child(4) > section > section > div.sc-e226b0e3-3.dwkouE > div.sc-dffc6c81-0.grcyBP > h1 > span').text\n",
    "        #NO FUNCIONA  nombre = driver.find_element('css selector','#__next > main > div > section.ipc-page-background.ipc-page-background--base.sc-304f99f6-0.eaRXHu > section > div:nth-child(4) > section > section > div.sc-e226b0e3-3.jJsEuz > div.sc-dffc6c81-0.iwmAVw > h1 > span').text\n",
    "    except:\n",
    "        nombre = \"--\"\n",
    "\n",
    "    url_tomatoes = \"https://www.google.com/\"\n",
    "    sleep(2)\n",
    "    driver.get(url_tomatoes)\n",
    "\n",
    "    #Aceptar cookies (en la primera iteración, después no lo encontrará y pasará)\n",
    "    try:\n",
    "        driver.find_element(\"css selector\", \"#L2AGLb\").click()\n",
    "        sleep(2)\n",
    "    except:\n",
    "        pass\n",
    "    \n",
    "    busqueda = nombre +  \" \" + año + \" Rotten tomatoes\"\n",
    "    \n",
    "    driver.find_element(\"css selector\", \"#APjFqb\").send_keys(busqueda, Keys.ENTER)\n",
    "    sleep(2)\n",
    "\n",
    "    try: #Manejando excepciones al coger la puntuación en Rotten Tomatoes\n",
    "        try:\n",
    "            puntuacion_tomatoes = driver.find_element(\"css selector\", \"#rso > div:nth-child(1) > div > div > div:nth-child(3) > div > span:nth-child(2)\").text.split(\" \")\n",
    "        except:\n",
    "            try:\n",
    "                puntuacion_tomatoes = driver.find_element(\"css selector\", \"#rso > div:nth-child(1) > div > div > div > div:nth-child(3) > div\").text.split(\" \")\n",
    "            except:\n",
    "                puntuacion_tomatoes = driver.find_element(\"css selector\", \"#rso > div:nth-child(1) > div > div > div > div:nth-child(3) > div > span:nth-child(2)\").text.split(\" \")\n",
    "        # Con la variable tomate comparamos el título de la película con el título del primer enlace y así asegurar que conincide nuestra peli con la encontrada por Google\n",
    "        try:\n",
    "            tomate = driver.find_element(\"css selector\", \"#rso > div:nth-child(1) > div > div > div.kb0PBd.cvP2Ce.jGGQ5e > div > div > span > a > h3\").text\n",
    "        except:\n",
    "            tomate = driver.find_element(\"css selector\", \"#rso > div:nth-child(1) > div > div > div > div.kb0PBd.cvP2Ce.jGGQ5e > div > div > span > a > h3\").text\n",
    "                                                \n",
    "        if tomate.lower() == nombre.lower():\n",
    "            for elemento in puntuacion_tomatoes:\n",
    "                if \"%\" in elemento:\n",
    "                    puntuacion2 = elemento\n",
    "                    break\n",
    "                else:\n",
    "                    puntuacion2 = \"--\"\n",
    "        else:\n",
    "            puntuacion2 = \"--\"\n",
    "    except:\n",
    "        puntuacion2 = \"--\"\n",
    "        \n",
    "    tupla_peli = (puntuacion, puntuacion2, direccion, guionistas, argumento, duracion, nombre)\n",
    "    lista_tupla.append(tupla_peli)\n",
    "    \n",
    "print(lista_tupla)\n",
    "\n",
    "driver.close()\n"
   ]
  },
  {
   "cell_type": "code",
   "execution_count": 40,
   "metadata": {},
   "outputs": [
    {
     "data": {
      "text/html": [
       "<div>\n",
       "<style scoped>\n",
       "    .dataframe tbody tr th:only-of-type {\n",
       "        vertical-align: middle;\n",
       "    }\n",
       "\n",
       "    .dataframe tbody tr th {\n",
       "        vertical-align: top;\n",
       "    }\n",
       "\n",
       "    .dataframe thead th {\n",
       "        text-align: right;\n",
       "    }\n",
       "</style>\n",
       "<table border=\"1\" class=\"dataframe\">\n",
       "  <thead>\n",
       "    <tr style=\"text-align: right;\">\n",
       "      <th></th>\n",
       "      <th>IMDB</th>\n",
       "      <th>RT</th>\n",
       "      <th>Direccion</th>\n",
       "      <th>Guión</th>\n",
       "      <th>Argumento</th>\n",
       "      <th>Duración</th>\n",
       "      <th>Título</th>\n",
       "    </tr>\n",
       "  </thead>\n",
       "  <tbody>\n",
       "    <tr>\n",
       "      <th>0</th>\n",
       "      <td>--</td>\n",
       "      <td>--</td>\n",
       "      <td>Oliver Brackenbury</td>\n",
       "      <td>Benjamin Verdiccio</td>\n",
       "      <td>Paul, frustrated with the state of his love li...</td>\n",
       "      <td>3m</td>\n",
       "      <td>Tonight We Fall in Love</td>\n",
       "    </tr>\n",
       "  </tbody>\n",
       "</table>\n",
       "</div>"
      ],
      "text/plain": [
       "  IMDB  RT           Direccion               Guión  \\\n",
       "0   --  --  Oliver Brackenbury  Benjamin Verdiccio   \n",
       "\n",
       "                                           Argumento Duración  \\\n",
       "0  Paul, frustrated with the state of his love li...       3m   \n",
       "\n",
       "                    Título  \n",
       "0  Tonight We Fall in Love  "
      ]
     },
     "execution_count": 40,
     "metadata": {},
     "output_type": "execute_result"
    }
   ],
   "source": [
    "df_peliculas = pd.DataFrame(lista_tupla, columns = [\"IMDB\", \"RT\", \"Direccion\", \"Guión\", \"Argumento\", \"Duración\", \"Título\"])\n",
    "df_peliculas\n"
   ]
  },
  {
   "cell_type": "code",
   "execution_count": 100,
   "metadata": {},
   "outputs": [],
   "source": [
    "df_peliculas.to_csv(\"detalles_peliculas_action.csv\")"
   ]
  },
  {
   "cell_type": "code",
   "execution_count": 121,
   "metadata": {},
   "outputs": [],
   "source": [
    "driver.close()"
   ]
  }
 ],
 "metadata": {
  "kernelspec": {
   "display_name": "base",
   "language": "python",
   "name": "python3"
  },
  "language_info": {
   "codemirror_mode": {
    "name": "ipython",
    "version": 3
   },
   "file_extension": ".py",
   "mimetype": "text/x-python",
   "name": "python",
   "nbconvert_exporter": "python",
   "pygments_lexer": "ipython3",
   "version": "3.11.4"
  }
 },
 "nbformat": 4,
 "nbformat_minor": 2
}
