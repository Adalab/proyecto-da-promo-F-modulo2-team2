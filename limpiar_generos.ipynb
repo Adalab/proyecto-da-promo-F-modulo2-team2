{
 "cells": [
  {
   "cell_type": "code",
   "execution_count": 21,
   "metadata": {},
   "outputs": [],
   "source": [
    "import pandas as pd\n",
    "import numpy as np"
   ]
  },
  {
   "cell_type": "code",
   "execution_count": 62,
   "metadata": {},
   "outputs": [],
   "source": [
    "thriller = pd.read_csv(\"final_thriller.csv\")\n"
   ]
  },
  {
   "cell_type": "code",
   "execution_count": 3,
   "metadata": {},
   "outputs": [],
   "source": [
    "# df_action = pd.DataFrame(action)\n",
    "# df_action= df_action.loc[df_action[\"Año Estreno\"]== 1991][0:20]\n",
    "# pd.DataFrame(df_action).to_csv(\"okey_comedy1.csv\")\n"
   ]
  },
  {
   "cell_type": "code",
   "execution_count": 63,
   "metadata": {},
   "outputs": [],
   "source": [
    "df_thriller = pd.DataFrame(thriller)\n",
    "\n",
    "df_thriller1= df_thriller.loc[df_thriller[\"Año Estreno\"]== 1990][0:20]\n",
    "for año in range(1991,2024):\n",
    "    df_thriller2= df_thriller.loc[df_thriller[\"Año Estreno\"]== año][0:20]\n",
    "    df_thriller1 = pd.concat([df_thriller1, df_thriller2], axis=0)\n",
    "\n",
    "pd.DataFrame(df_thriller1).to_csv(f\"okey_thriller_pelis.csv\")\n",
    "    "
   ]
  },
  {
   "cell_type": "code",
   "execution_count": 64,
   "metadata": {},
   "outputs": [],
   "source": [
    "df_thriller = pd.DataFrame(thriller)\n",
    "df_thrillerS= df_thriller.loc[df_thriller[\"Tipo\"]== \"Short\"]\n",
    "\n",
    "df_thriller1= df_thrillerS.loc[df_thrillerS[\"Año Estreno\"]== 1990][0:20]\n",
    "for año in range(1991,2024):\n",
    "    df_thriller2= df_thrillerS.loc[df_thrillerS[\"Año Estreno\"]== año][0:20]\n",
    "    \n",
    "    df_thriller1 = pd.concat([df_thriller1, df_thriller2], axis=0)\n",
    "\n",
    "pd.DataFrame(df_thriller1).to_csv(f\"okey_thriller_short.csv\")\n",
    "    \n"
   ]
  },
  {
   "cell_type": "code",
   "execution_count": null,
   "metadata": {},
   "outputs": [],
   "source": [
    "df_final_action = pd.concat(df_action1, axis=0)"
   ]
  },
  {
   "cell_type": "code",
   "execution_count": null,
   "metadata": {},
   "outputs": [],
   "source": [
    "df_action = pd.DataFrame(action)\n",
    "lista_final =[]\n",
    "for año in df_action[\"Año Estreno\"]:\n",
    "    print(año)\n",
    "    #df_action= df_action.loc[df_action[\"Año Estreno\"]== año][0:20]\n",
    "    #pd.DataFrame(df_action).to_csv(\"okey_action.csv\")\n",
    "    #print(df_action)"
   ]
  }
 ],
 "metadata": {
  "kernelspec": {
   "display_name": "base",
   "language": "python",
   "name": "python3"
  },
  "language_info": {
   "codemirror_mode": {
    "name": "ipython",
    "version": 3
   },
   "file_extension": ".py",
   "mimetype": "text/x-python",
   "name": "python",
   "nbconvert_exporter": "python",
   "pygments_lexer": "ipython3",
   "version": "3.11.4"
  }
 },
 "nbformat": 4,
 "nbformat_minor": 2
}
