{
 "cells": [
  {
   "cell_type": "code",
   "execution_count": 1,
   "metadata": {},
   "outputs": [
    {
     "name": "stdout",
     "output_type": "stream",
     "text": [
      "Requirement already satisfied: mysql-connector-python in /Users/marta/anaconda3/envs/adalabenv/lib/python3.10/site-packages (8.2.0)\n",
      "Requirement already satisfied: protobuf<=4.21.12,>=4.21.1 in /Users/marta/anaconda3/envs/adalabenv/lib/python3.10/site-packages (from mysql-connector-python) (4.21.12)\n",
      "Requirement already satisfied: mysql-connector in /Users/marta/anaconda3/envs/adalabenv/lib/python3.10/site-packages (2.2.9)\n"
     ]
    }
   ],
   "source": [
    "!pip install mysql-connector-python\n",
    "!pip install mysql-connector"
   ]
  },
  {
   "cell_type": "code",
   "execution_count": 6,
   "metadata": {},
   "outputs": [],
   "source": [
    "import pandas as pd"
   ]
  },
  {
   "cell_type": "code",
   "execution_count": 8,
   "metadata": {},
   "outputs": [
    {
     "data": {
      "text/html": [
       "<div>\n",
       "<style scoped>\n",
       "    .dataframe tbody tr th:only-of-type {\n",
       "        vertical-align: middle;\n",
       "    }\n",
       "\n",
       "    .dataframe tbody tr th {\n",
       "        vertical-align: top;\n",
       "    }\n",
       "\n",
       "    .dataframe thead th {\n",
       "        text-align: right;\n",
       "    }\n",
       "</style>\n",
       "<table border=\"1\" class=\"dataframe\">\n",
       "  <thead>\n",
       "    <tr style=\"text-align: right;\">\n",
       "      <th></th>\n",
       "      <th>Fecha de la ceremonia</th>\n",
       "      <th>Mejor película</th>\n",
       "      <th>Mejor director</th>\n",
       "      <th>Mejor actor</th>\n",
       "      <th>Mejor actriz</th>\n",
       "    </tr>\n",
       "  </thead>\n",
       "  <tbody>\n",
       "    <tr>\n",
       "      <th>0</th>\n",
       "      <td>1990</td>\n",
       "      <td>Driving Miss Daisy</td>\n",
       "      <td>O. Stone</td>\n",
       "      <td>D. Day-Lewis</td>\n",
       "      <td>J. Tandy</td>\n",
       "    </tr>\n",
       "    <tr>\n",
       "      <th>1</th>\n",
       "      <td>1991</td>\n",
       "      <td>Dances with Wolves</td>\n",
       "      <td>K. Costner</td>\n",
       "      <td>J. Irons</td>\n",
       "      <td>K. Bates</td>\n",
       "    </tr>\n",
       "    <tr>\n",
       "      <th>2</th>\n",
       "      <td>1992</td>\n",
       "      <td>The Silence of the Lambs</td>\n",
       "      <td>J. Demme</td>\n",
       "      <td>A. Hopkins</td>\n",
       "      <td>J. Foster</td>\n",
       "    </tr>\n",
       "    <tr>\n",
       "      <th>3</th>\n",
       "      <td>1993</td>\n",
       "      <td>Unforgiven</td>\n",
       "      <td>C. Eastwood</td>\n",
       "      <td>A. Pacino</td>\n",
       "      <td>E. Thompson</td>\n",
       "    </tr>\n",
       "    <tr>\n",
       "      <th>4</th>\n",
       "      <td>1994</td>\n",
       "      <td>Schindler's List</td>\n",
       "      <td>S. Spielberg</td>\n",
       "      <td>T. Hanks</td>\n",
       "      <td>H. Hunter</td>\n",
       "    </tr>\n",
       "  </tbody>\n",
       "</table>\n",
       "</div>"
      ],
      "text/plain": [
       "   Fecha de la ceremonia             Mejor película Mejor director  \\\n",
       "0                   1990         Driving Miss Daisy       O. Stone   \n",
       "1                   1991         Dances with Wolves     K. Costner   \n",
       "2                   1992   The Silence of the Lambs       J. Demme   \n",
       "3                   1993                 Unforgiven    C. Eastwood   \n",
       "4                   1994           Schindler's List   S. Spielberg   \n",
       "\n",
       "     Mejor actor  Mejor actriz  \n",
       "0   D. Day-Lewis      J. Tandy  \n",
       "1       J. Irons      K. Bates  \n",
       "2     A. Hopkins     J. Foster  \n",
       "3      A. Pacino   E. Thompson  \n",
       "4       T. Hanks     H. Hunter  "
      ]
     },
     "execution_count": 8,
     "metadata": {},
     "output_type": "execute_result"
    }
   ],
   "source": [
    "df_premios = pd.read_csv(\"4.PREMIOS_OSCAR.csv\", index_col = 0)\n",
    "df_premios.head()"
   ]
  },
  {
   "cell_type": "code",
   "execution_count": null,
   "metadata": {},
   "outputs": [],
   "source": [
    "lista_tuplas_premios = [tuple(x) for x in df_premios.values]\n",
    "lista_tuplas_premios"
   ]
  },
  {
   "cell_type": "code",
   "execution_count": null,
   "metadata": {},
   "outputs": [],
   "source": [
    "# nuevo_orden = [\"2\", \"1\", \"0\", \"3\", \"4\"]\n",
    "# df_pelis = df_peli.reindex(columns = nuevo_orden)"
   ]
  },
  {
   "cell_type": "markdown",
   "metadata": {},
   "source": [
    "# Forma 1 (menos correcta)"
   ]
  },
  {
   "cell_type": "code",
   "execution_count": null,
   "metadata": {},
   "outputs": [],
   "source": [
    "print(\"INSERT INTO peliculas VALUES\")\n",
    "for peli in lista_tuplas_pelis:\n",
    "    print(peli, \",\")\n"
   ]
  },
  {
   "cell_type": "markdown",
   "metadata": {},
   "source": [
    "# Forma 2 (más correcta)"
   ]
  },
  {
   "cell_type": "code",
   "execution_count": 16,
   "metadata": {},
   "outputs": [],
   "source": [
    "import mysql.connector\n",
    "from mysql.connector import errorcode"
   ]
  },
  {
   "cell_type": "code",
   "execution_count": 18,
   "metadata": {},
   "outputs": [
    {
     "name": "stdout",
     "output_type": "stream",
     "text": [
      "34 registros insertados\n"
     ]
    }
   ],
   "source": [
    "cnx = mysql.connector.connect(user = \"root\",\n",
    "                              password = \"AlumnaAdalab\",\n",
    "                              host = \"127.0.0.1\",\n",
    "                              database = \"NETCHILL\")#Nuesta base de datos de mysql\n",
    "#Nos permite enviar informacion atraves de la conexciosm\n",
    "mycursor = cnx.cursor()\n",
    "\n",
    "\n",
    "#Escribimos la query aqui\n",
    "#¡¡¡El ORDEN IMPORTA!!! --> El primer dato debe ser el primer elemento de la lista de tuplas\n",
    "sql_pelis = \"INSERT INTO Premios (fecha_celebracion, mejor_pelicula, mejor_director, mejor_actor, mejor_actriz) VALUES (%s, %s, %s, %s,%s)\" \n",
    "                        #peliculas el nombre del archivo correspondiente\n",
    "try:\n",
    "    mycursor.executemany(sql_pelis, lista_tuplas_premios)\n",
    "    cnx.commit()\n",
    "    print(mycursor.rowcount,\"registros insertados\")\n",
    "except:\n",
    "    print(\"Ha habido un error en la inserción\")"
   ]
  },
  {
   "cell_type": "code",
   "execution_count": null,
   "metadata": {},
   "outputs": [],
   "source": [
    "!pip install xlrd"
   ]
  },
  {
   "cell_type": "code",
   "execution_count": null,
   "metadata": {},
   "outputs": [],
   "source": [
    "!pip install openpyxl"
   ]
  },
  {
   "cell_type": "code",
   "execution_count": 21,
   "metadata": {},
   "outputs": [],
   "source": [
    "import openpyxl"
   ]
  },
  {
   "cell_type": "code",
   "execution_count": 34,
   "metadata": {},
   "outputs": [
    {
     "data": {
      "text/html": [
       "<div>\n",
       "<style scoped>\n",
       "    .dataframe tbody tr th:only-of-type {\n",
       "        vertical-align: middle;\n",
       "    }\n",
       "\n",
       "    .dataframe tbody tr th {\n",
       "        vertical-align: top;\n",
       "    }\n",
       "\n",
       "    .dataframe thead th {\n",
       "        text-align: right;\n",
       "    }\n",
       "</style>\n",
       "<table border=\"1\" class=\"dataframe\">\n",
       "  <thead>\n",
       "    <tr style=\"text-align: right;\">\n",
       "      <th></th>\n",
       "      <th>Genero</th>\n",
       "      <th>Tipo</th>\n",
       "      <th>Nombre</th>\n",
       "      <th>Id</th>\n",
       "      <th>Mes</th>\n",
       "      <th>Ano</th>\n",
       "    </tr>\n",
       "  </thead>\n",
       "  <tbody>\n",
       "    <tr>\n",
       "      <th>0</th>\n",
       "      <td>Action</td>\n",
       "      <td>Movie</td>\n",
       "      <td>Spy Story</td>\n",
       "      <td>tt0075259</td>\n",
       "      <td>3.0</td>\n",
       "      <td>1990.0</td>\n",
       "    </tr>\n",
       "    <tr>\n",
       "      <th>1</th>\n",
       "      <td>Action</td>\n",
       "      <td>Movie</td>\n",
       "      <td>Comando terrorista</td>\n",
       "      <td>tt0090869</td>\n",
       "      <td>NaN</td>\n",
       "      <td>1990.0</td>\n",
       "    </tr>\n",
       "    <tr>\n",
       "      <th>2</th>\n",
       "      <td>Action</td>\n",
       "      <td>Movie</td>\n",
       "      <td>Dragon Hunt</td>\n",
       "      <td>tt0092926</td>\n",
       "      <td>6.0</td>\n",
       "      <td>1990.0</td>\n",
       "    </tr>\n",
       "    <tr>\n",
       "      <th>3</th>\n",
       "      <td>Action</td>\n",
       "      <td>Movie</td>\n",
       "      <td>Huang jia shi jie zhi: Zhong jian ren</td>\n",
       "      <td>tt0094376</td>\n",
       "      <td>6.0</td>\n",
       "      <td>1990.0</td>\n",
       "    </tr>\n",
       "    <tr>\n",
       "      <th>4</th>\n",
       "      <td>Action</td>\n",
       "      <td>Movie</td>\n",
       "      <td>Soldier of Fortune</td>\n",
       "      <td>tt0094004</td>\n",
       "      <td>4.0</td>\n",
       "      <td>1990.0</td>\n",
       "    </tr>\n",
       "  </tbody>\n",
       "</table>\n",
       "</div>"
      ],
      "text/plain": [
       "   Genero  Tipo                                  Nombre         Id  Mes  \\\n",
       "0  Action  Movie                              Spy Story  tt0075259  3.0   \n",
       "1  Action  Movie                     Comando terrorista  tt0090869  NaN   \n",
       "2  Action  Movie                            Dragon Hunt  tt0092926  6.0   \n",
       "3  Action  Movie  Huang jia shi jie zhi: Zhong jian ren  tt0094376  6.0   \n",
       "4  Action  Movie                     Soldier of Fortune  tt0094004  4.0   \n",
       "\n",
       "      Ano  \n",
       "0  1990.0  \n",
       "1  1990.0  \n",
       "2  1990.0  \n",
       "3  1990.0  \n",
       "4  1990.0  "
      ]
     },
     "execution_count": 34,
     "metadata": {},
     "output_type": "execute_result"
    }
   ],
   "source": [
    "df_master = pd.read_excel(\"0.TODO_GENEROS_PELIS_1990_2023.xlsx\")\n",
    "df_master.head()"
   ]
  },
  {
   "cell_type": "code",
   "execution_count": 42,
   "metadata": {},
   "outputs": [
    {
     "data": {
      "text/plain": [
       "Genero         0\n",
       "Tipo           0\n",
       "Nombre         9\n",
       "Id             0\n",
       "Mes       124490\n",
       "Ano        82714\n",
       "dtype: int64"
      ]
     },
     "execution_count": 42,
     "metadata": {},
     "output_type": "execute_result"
    }
   ],
   "source": [
    "df_master.isna().sum()"
   ]
  },
  {
   "cell_type": "code",
   "execution_count": 45,
   "metadata": {},
   "outputs": [],
   "source": [
    "df_master.fillna(0, inplace= True)"
   ]
  },
  {
   "cell_type": "code",
   "execution_count": 46,
   "metadata": {},
   "outputs": [
    {
     "data": {
      "text/plain": [
       "Genero    0\n",
       "Tipo      0\n",
       "Nombre    0\n",
       "Id        0\n",
       "Mes       0\n",
       "Ano       0\n",
       "dtype: int64"
      ]
     },
     "execution_count": 46,
     "metadata": {},
     "output_type": "execute_result"
    }
   ],
   "source": [
    "df_master.isna().sum()"
   ]
  },
  {
   "cell_type": "code",
   "execution_count": null,
   "metadata": {},
   "outputs": [],
   "source": [
    "lista_tuplas_master = [tuple(x) for x in df_master.values]\n",
    "lista_tuplas_master"
   ]
  },
  {
   "cell_type": "code",
   "execution_count": 48,
   "metadata": {},
   "outputs": [
    {
     "name": "stdout",
     "output_type": "stream",
     "text": [
      "547650 546311\n"
     ]
    }
   ],
   "source": [
    "#Primero eliminamos duplicados convirtiendolo en set que quita los repetidos\n",
    "set(lista_tuplas_master)\n",
    "print(len(lista_tuplas_master), len(set(lista_tuplas_master)))"
   ]
  },
  {
   "cell_type": "code",
   "execution_count": null,
   "metadata": {},
   "outputs": [],
   "source": [
    "lista_tuplas_master = list(set(lista_tuplas_master))\n",
    "#Limpiamos corchetes y comillas antes de meter en mysql\n",
    "lista_tuplas_master"
   ]
  },
  {
   "cell_type": "code",
   "execution_count": 50,
   "metadata": {},
   "outputs": [
    {
     "name": "stdout",
     "output_type": "stream",
     "text": [
      "1366 (HY000): Incorrect integer value: 'tt2915058' for column 'id_pelicula' at row 1\n"
     ]
    }
   ],
   "source": [
    "cnx = mysql.connector.connect(user = \"root\",\n",
    "                              password = \"AlumnaAdalab\",\n",
    "                              host = \"127.0.0.1\",\n",
    "                              database = \"NETCHILL\")#Nuesta base de datos de mysql\n",
    "#Nos permite enviar informacion atraves de la conexciosm\n",
    "mycursor = cnx.cursor()\n",
    "\n",
    "#¡¡¡El ORDEN IMPORTA!!! --> El primer dato debe ser el primer elemento de la lista de tuplas\n",
    "sql_pelis = \"INSERT INTO MASTER (genero, tipo, titulo, id_pelicula, mes, anio) VALUES (%s, %s, %s, %s,%s, %s)\" \n",
    "                        #peliculas el nombre del archivo correspondiente\n",
    "try:\n",
    "    mycursor.executemany(sql_pelis, lista_tuplas_master)\n",
    "    cnx.commit()\n",
    "    print(mycursor.rowcount,\"registros insertados\")\n",
    "except mysql.connector.Error as err:\n",
    "\n",
    "  # si es un error con la contraseña devuelveme un mensaje de acceso denegado ya que tenemos problemas con la contraseña\n",
    "  if err.errno == errorcode.ER_ACCESS_DENIED_ERROR:\n",
    "    print(\"Something is wrong with your user name or password\")\n",
    "  \n",
    "  # si el error no tiene que ver con la contraseña, puede ser porque la base de datos no exista, devuelveme un mensaje de que la base de datos no existe\n",
    "  elif err.errno == errorcode.ER_BAD_DB_ERROR:\n",
    "    print(\"Database does not exist\")\n",
    "  \n",
    "  # si no es por ninguno de los errores anteriores, printeame cual es el error que estoy teniendo en mi conexión\n",
    "  else:\n",
    "    print(err)"
   ]
  },
  {
   "cell_type": "code",
   "execution_count": 41,
   "metadata": {},
   "outputs": [
    {
     "data": {
      "text/plain": [
       "('Drama', 'Movie', 'Ring of Fire', 'tt0186202', 7.0, 2001.0)"
      ]
     },
     "execution_count": 41,
     "metadata": {},
     "output_type": "execute_result"
    }
   ],
   "source": [
    "lista_tuplas_master[1053]"
   ]
  }
 ],
 "metadata": {
  "kernelspec": {
   "display_name": "base",
   "language": "python",
   "name": "python3"
  },
  "language_info": {
   "codemirror_mode": {
    "name": "ipython",
    "version": 3
   },
   "file_extension": ".py",
   "mimetype": "text/x-python",
   "name": "python",
   "nbconvert_exporter": "python",
   "pygments_lexer": "ipython3",
   "version": "3.11.4"
  }
 },
 "nbformat": 4,
 "nbformat_minor": 2
}
