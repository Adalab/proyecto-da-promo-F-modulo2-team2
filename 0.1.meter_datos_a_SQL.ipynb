{
 "cells": [
  {
   "cell_type": "code",
   "execution_count": 1,
   "metadata": {},
   "outputs": [
    {
     "name": "stdout",
     "output_type": "stream",
     "text": [
      "Requirement already satisfied: mysql-connector-python in /Users/marta/anaconda3/envs/adalabenv/lib/python3.10/site-packages (8.2.0)\n",
      "Requirement already satisfied: protobuf<=4.21.12,>=4.21.1 in /Users/marta/anaconda3/envs/adalabenv/lib/python3.10/site-packages (from mysql-connector-python) (4.21.12)\n",
      "Requirement already satisfied: mysql-connector in /Users/marta/anaconda3/envs/adalabenv/lib/python3.10/site-packages (2.2.9)\n"
     ]
    }
   ],
   "source": [
    "!pip install mysql-connector-python\n",
    "!pip install mysql-connector"
   ]
  },
  {
   "cell_type": "code",
   "execution_count": 6,
   "metadata": {},
   "outputs": [],
   "source": [
    "import pandas as pd"
   ]
  },
  {
   "cell_type": "code",
   "execution_count": 8,
   "metadata": {},
   "outputs": [
    {
     "data": {
      "text/html": [
       "<div>\n",
       "<style scoped>\n",
       "    .dataframe tbody tr th:only-of-type {\n",
       "        vertical-align: middle;\n",
       "    }\n",
       "\n",
       "    .dataframe tbody tr th {\n",
       "        vertical-align: top;\n",
       "    }\n",
       "\n",
       "    .dataframe thead th {\n",
       "        text-align: right;\n",
       "    }\n",
       "</style>\n",
       "<table border=\"1\" class=\"dataframe\">\n",
       "  <thead>\n",
       "    <tr style=\"text-align: right;\">\n",
       "      <th></th>\n",
       "      <th>Fecha de la ceremonia</th>\n",
       "      <th>Mejor película</th>\n",
       "      <th>Mejor director</th>\n",
       "      <th>Mejor actor</th>\n",
       "      <th>Mejor actriz</th>\n",
       "    </tr>\n",
       "  </thead>\n",
       "  <tbody>\n",
       "    <tr>\n",
       "      <th>0</th>\n",
       "      <td>1990</td>\n",
       "      <td>Driving Miss Daisy</td>\n",
       "      <td>O. Stone</td>\n",
       "      <td>D. Day-Lewis</td>\n",
       "      <td>J. Tandy</td>\n",
       "    </tr>\n",
       "    <tr>\n",
       "      <th>1</th>\n",
       "      <td>1991</td>\n",
       "      <td>Dances with Wolves</td>\n",
       "      <td>K. Costner</td>\n",
       "      <td>J. Irons</td>\n",
       "      <td>K. Bates</td>\n",
       "    </tr>\n",
       "    <tr>\n",
       "      <th>2</th>\n",
       "      <td>1992</td>\n",
       "      <td>The Silence of the Lambs</td>\n",
       "      <td>J. Demme</td>\n",
       "      <td>A. Hopkins</td>\n",
       "      <td>J. Foster</td>\n",
       "    </tr>\n",
       "    <tr>\n",
       "      <th>3</th>\n",
       "      <td>1993</td>\n",
       "      <td>Unforgiven</td>\n",
       "      <td>C. Eastwood</td>\n",
       "      <td>A. Pacino</td>\n",
       "      <td>E. Thompson</td>\n",
       "    </tr>\n",
       "    <tr>\n",
       "      <th>4</th>\n",
       "      <td>1994</td>\n",
       "      <td>Schindler's List</td>\n",
       "      <td>S. Spielberg</td>\n",
       "      <td>T. Hanks</td>\n",
       "      <td>H. Hunter</td>\n",
       "    </tr>\n",
       "  </tbody>\n",
       "</table>\n",
       "</div>"
      ],
      "text/plain": [
       "   Fecha de la ceremonia             Mejor película Mejor director  \\\n",
       "0                   1990         Driving Miss Daisy       O. Stone   \n",
       "1                   1991         Dances with Wolves     K. Costner   \n",
       "2                   1992   The Silence of the Lambs       J. Demme   \n",
       "3                   1993                 Unforgiven    C. Eastwood   \n",
       "4                   1994           Schindler's List   S. Spielberg   \n",
       "\n",
       "     Mejor actor  Mejor actriz  \n",
       "0   D. Day-Lewis      J. Tandy  \n",
       "1       J. Irons      K. Bates  \n",
       "2     A. Hopkins     J. Foster  \n",
       "3      A. Pacino   E. Thompson  \n",
       "4       T. Hanks     H. Hunter  "
      ]
     },
     "execution_count": 8,
     "metadata": {},
     "output_type": "execute_result"
    }
   ],
   "source": [
    "df_premios = pd.read_csv(\"4.PREMIOS_OSCAR.csv\", index_col = 0)\n",
    "df_premios.head()"
   ]
  },
  {
   "cell_type": "code",
   "execution_count": 9,
   "metadata": {},
   "outputs": [
    {
     "data": {
      "text/plain": [
       "[(1990, ' Driving Miss Daisy', ' O. Stone', ' D. Day-Lewis', ' J. Tandy'),\n",
       " (1991, ' Dances with Wolves', ' K. Costner', ' J. Irons', ' K. Bates'),\n",
       " (1992, ' The Silence of the Lambs', ' J. Demme', ' A. Hopkins', ' J. Foster'),\n",
       " (1993, ' Unforgiven', ' C. Eastwood', '  A. Pacino', ' E. Thompson'),\n",
       " (1994, \" Schindler's List\", ' S. Spielberg', ' T. Hanks', ' H. Hunter'),\n",
       " (1995, ' Forrest Gump', ' R. Zemeckis', ' T. Hanks', ' J. Lange'),\n",
       " (1996, '  Braveheart', ' M. Gibson', ' N. Cage', ' S. Sarandon'),\n",
       " (1997, ' The English Patient', ' A. Minghella', ' G. Rush', ' F. McDormand'),\n",
       " (1998, 'Titanic', ' J. Cameron', ' J. Nicholson', ' H. Hunt'),\n",
       " (1999, ' Shakespeare in Love', ' S. Spielberg', ' R. Benigni', ' G. Paltrow'),\n",
       " (2000, ' American Beauty', ' S. Mendes', ' K. Spacey', ' H. Swank'),\n",
       " (2001, ' Gladiator', ' S. Soderbergh', ' R. Crowe', ' J. Roberts'),\n",
       " (2002, ' A Beautiful Mind', ' R. Howard', ' D. Washington', ' H. Berry'),\n",
       " (2003, ' Chicago', ' R. Polanski', ' A. Brody', '  N. Kidman'),\n",
       " (2004,\n",
       "  ' The Lord of the Rings: The Return of the King',\n",
       "  ' P. Jackson',\n",
       "  ' S. Penn',\n",
       "  ' C. Theron'),\n",
       " (2005, ' Million Dollar Baby', ' C. Eastwood', ' J. Foxx', ' H. Swank'),\n",
       " (2006, ' Crash', ' A. Lee', ' P. S. Hoffman', ' R. Witherspoon'),\n",
       " (2007, ' The Departed', ' M. Scorsese', ' F. Whitaker', ' H. Mirren'),\n",
       " (2008,\n",
       "  ' No Country for Old Men',\n",
       "  ' J. Coen E. Coen',\n",
       "  ' D. Day-Lewis',\n",
       "  ' M. Cotillard'),\n",
       " (2009, '  Slumdog Millionaire', ' D. Boyle', ' S. Penn', ' K. Winslet'),\n",
       " (2010, ' The Hurt Locker', ' K. Bigelow', ' J. Bridges', ' S. Bullock'),\n",
       " (2011, \" The King's Speech\", ' T. Hooper', ' C. Firth', '  N. Portman'),\n",
       " (2012, ' The Artist', ' M. Hazanavicius', ' J. Dujardin', ' M. Streep'),\n",
       " (2013, ' Argo', ' A. Lee', ' D. Day-Lewis', ' J. Lawrence'),\n",
       " (2014,\n",
       "  '  12 Years a Slave',\n",
       "  ' A. Cuarón',\n",
       "  ' M. McConaughey',\n",
       "  ' C. Blanchett'),\n",
       " (2015, ' Birdman or ', ' A. G. Iñárritu', ' E. Redmayne', ' J.Moore'),\n",
       " (2016, ' Spotlight', ' A. G. Iñárritu', ' L. DiCaprio', ' B. Larson'),\n",
       " (2017, ' Moonlight', '  D. Chazelle', ' C. Affleck', ' E. Stone'),\n",
       " (2018, ' The Shape of Water', ' G. del Toro', ' G. Oldman', ' F. McDormand'),\n",
       " (2019, ' Green Book', ' A. Cuarón', '  R. Malek', ' O. Colman'),\n",
       " (2020, ' Parasite', ' Bong J.', '  J. Phoenix', ' R. Zellweger'),\n",
       " (2021, ' Nomadland', ' C. Zhao', ' A. Hopkins', ' F. McDormand'),\n",
       " (2022, '  CODA', ' J. Campion', ' W. Smith', ' J. Chastain'),\n",
       " (2023,\n",
       "  ' Everything Everywhere All at Once',\n",
       "  ' D. Kwan D. Scheinert',\n",
       "  ' B. Fraser',\n",
       "  ' M. Yeoh')]"
      ]
     },
     "execution_count": 9,
     "metadata": {},
     "output_type": "execute_result"
    }
   ],
   "source": [
    "lista_tuplas_premios = [tuple(x) for x in df_premios.values]\n",
    "lista_tuplas_premios"
   ]
  },
  {
   "cell_type": "code",
   "execution_count": null,
   "metadata": {},
   "outputs": [],
   "source": [
    "# nuevo_orden = [\"2\", \"1\", \"0\", \"3\", \"4\"]\n",
    "# df_pelis = df_peli.reindex(columns = nuevo_orden)"
   ]
  },
  {
   "cell_type": "markdown",
   "metadata": {},
   "source": [
    "# Forma 1 (menos correcta)"
   ]
  },
  {
   "cell_type": "code",
   "execution_count": null,
   "metadata": {},
   "outputs": [],
   "source": [
    "print(\"INSERT INTO peliculas VALUES\")\n",
    "for peli in lista_tuplas_pelis:\n",
    "    print(peli, \",\")\n"
   ]
  },
  {
   "cell_type": "markdown",
   "metadata": {},
   "source": [
    "# Forma 2 (más correcta)"
   ]
  },
  {
   "cell_type": "code",
   "execution_count": 16,
   "metadata": {},
   "outputs": [],
   "source": [
    "import mysql.connector\n",
    "from mysql.connector import errorcode"
   ]
  },
  {
   "cell_type": "code",
   "execution_count": 18,
   "metadata": {},
   "outputs": [
    {
     "name": "stdout",
     "output_type": "stream",
     "text": [
      "34 registros insertados\n"
     ]
    }
   ],
   "source": [
    "cnx = mysql.connector.connect(user = \"root\",\n",
    "                              password = \"AlumnaAdalab\",\n",
    "                              host = \"127.0.0.1\",\n",
    "                              database = \"NETCHILL\")#Nuesta base de datos de mysql\n",
    "#Nos permite enviar informacion atraves de la conexciosm\n",
    "mycursor = cnx.cursor()\n",
    "\n",
    "\n",
    "#Escribimos la query aqui\n",
    "#¡¡¡El ORDEN IMPORTA!!! --> El primer dato debe ser el primer elemento de la lista de tuplas\n",
    "sql_pelis = \"INSERT INTO Premios (fecha_celebracion, mejor_pelicula, mejor_director, mejor_actor, mejor_actriz) VALUES (%s, %s, %s, %s,%s)\" \n",
    "                        #peliculas el nombre del archivo correspondiente\n",
    "try:\n",
    "    mycursor.executemany(sql_pelis, lista_tuplas_premios)\n",
    "    cnx.commit()\n",
    "    print(mycursor.rowcount,\"registros insertados\")\n",
    "except:\n",
    "    print(\"Ha habido un error en la inserción\")"
   ]
  },
  {
   "cell_type": "code",
   "execution_count": null,
   "metadata": {},
   "outputs": [],
   "source": [
    "#Primero eliminamos actores duplicados convirtiendolo en set que quita los repetidos\n",
    "set(lista_tuplas_act)\n",
    "print(len(lista_tuplas_act), len(set(lista_tuplas_act)))"
   ]
  },
  {
   "cell_type": "code",
   "execution_count": null,
   "metadata": {},
   "outputs": [],
   "source": [
    "lista_tuplas_act = list(set(lista_tuplas_act))\n",
    "#Limpiamos corchetes y comillas antes de meter en mysql"
   ]
  },
  {
   "cell_type": "code",
   "execution_count": null,
   "metadata": {},
   "outputs": [],
   "source": [
    "cnx = mysql.connector.connert(user = \"root\",\n",
    "                              password = \"AlumnaAdalab\",\n",
    "                              hots = \"127.0.0.1\",\n",
    "                              database = \"proyecto_cine\")#proyectocine nuesto base de datos de mysql\n",
    "#Nos permite envir informacion atraves de la conexciosm\n",
    "mycursor = cnx.cursor()\n",
    "\n",
    "\n",
    "#Escribimos la query aqui\n",
    "#¡El ORDEN IMPORTA!!! --> El primer dato debe ser el primer elemento de la lista de tuplas\n",
    "sql_actores = \"INSERT INTO actores (nombre, año_nacimiento, conocido_por, que_hace, premios) VALUES (%s, %s,%s, %s,%s)\" \n",
    "                        #peliculas el nombre del archivo correspondiente\n",
    "try:\n",
    "    mycursor,executemany(sql_actores, lista_tuplas_act)\n",
    "    cnx.commit()\n",
    "    print(mycursor.rowcount,\"registros insertados\")\n",
    "except:\n",
    "    print(\"Ha habido un error en la inserción\")"
   ]
  }
 ],
 "metadata": {
  "kernelspec": {
   "display_name": "base",
   "language": "python",
   "name": "python3"
  },
  "language_info": {
   "codemirror_mode": {
    "name": "ipython",
    "version": 3
   },
   "file_extension": ".py",
   "mimetype": "text/x-python",
   "name": "python",
   "nbconvert_exporter": "python",
   "pygments_lexer": "ipython3",
   "version": "3.11.4"
  }
 },
 "nbformat": 4,
 "nbformat_minor": 2
}
