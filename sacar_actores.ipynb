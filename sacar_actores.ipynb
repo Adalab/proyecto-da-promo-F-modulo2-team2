{
 "cells": [
  {
   "cell_type": "code",
   "execution_count": 1,
   "metadata": {},
   "outputs": [],
   "source": [
    "import requests\n",
    "import pandas as pd\n",
    "\n",
    "# Importar librerías para web scraping y manipulación de datos\n",
    "# -----------------------------------------------------------------------\n",
    "from bs4 import BeautifulSoup\n",
    "import requests\n",
    "\n",
    "\n",
    "from tqdm import tqdm\n",
    "\n",
    "# Importar librerías para automatización de navegadores web con Selenium\n",
    "# -----------------------------------------------------------------------\n",
    "from selenium import webdriver  # Selenium es una herramienta para automatizar la interacción con navegadores web.\n",
    "from webdriver_manager.chrome import ChromeDriverManager  # ChromeDriverManager gestiona la instalación del controlador de Chrome.\n",
    "from selenium.webdriver.common.keys import Keys  # Keys es útil para simular eventos de teclado en Selenium.\n",
    "\n",
    "# Importar librerías para pausar la ejecución\n",
    "# -----------------------------------------------------------------------\n",
    "from time import sleep  # Sleep se utiliza para pausar la ejecución del programa por un número de segundos."
   ]
  },
  {
   "cell_type": "code",
   "execution_count": null,
   "metadata": {},
   "outputs": [],
   "source": [
    "# lista_pelis = []\n",
    "\n",
    "\n",
    "# for año in range(1990, 1993):\n",
    "    \n",
    "#     sleep(10)\n",
    "    \n",
    "\n",
    "#     url = \"https://moviesdatabase.p.rapidapi.com/titles\"\n",
    "\n",
    "#     querystring = {\"genre\":\"Drama\",\"year\":\"1990\",\"page\":\"1\", \"limit\": \"50\"}\n",
    "\n",
    "#     headers = {\n",
    "#         \"X-RapidAPI-Key\": \"b1101936b5mshb3f446f3203eb54p1c27c3jsna214ad23b3e2\",\n",
    "#         \"X-RapidAPI-Host\": \"moviesdatabase.p.rapidapi.com\"\n",
    "#     }\n",
    "\n",
    "#     response = requests.get(url, headers=headers, params=querystring)\n",
    "\n",
    "#     print(response.json())\n",
    "#     print(response.json())\n",
    "#     print(response.status_code)\n",
    "#     # con esto entramos en la key donde encontraremos las pelis, por cada pagina tenemos solo 10 resultados\n",
    "#     pelis = response.json()[\"results\"]\n",
    "#     print(pelis)\n",
    "\n",
    "    \n",
    "#     for indice, peli in enumerate(pelis):\n",
    "#         resultados = []\n",
    "#         resultados.append(pelis[indice][\"titleText\"][\"text\"])\n",
    "#         resultados.append(pelis[indice][\"titleType\"][\"text\"])\n",
    "#         resultados.append(pelis[indice][\"releaseYear\"][\"year\"])\n",
    "    \n",
    "#         resultados.append(pelis[indice][\"id\"])\n",
    "        \n",
    "#         # hay algunas pelis/series que no tienen mes de estreno, por lo que en esos casos lo ponemos como desconocido\n",
    "#         try:\n",
    "#             resultados.append(pelis[indice][\"releaseDate\"][\"month\"])\n",
    "#         except:    \n",
    "#             resultados.append(\"Desconocido\")\n",
    "            \n",
    "#         lista_pelis.append(tuple(resultados))"
   ]
  },
  {
   "cell_type": "code",
   "execution_count": null,
   "metadata": {},
   "outputs": [],
   "source": [
    "#lista_pelis[:3]"
   ]
  },
  {
   "cell_type": "code",
   "execution_count": null,
   "metadata": {},
   "outputs": [],
   "source": [
    "#lista_peli_cortas = lista_pelis[:3]\n",
    "#lista_peli_cortas"
   ]
  },
  {
   "cell_type": "markdown",
   "metadata": {},
   "source": [
    "# Actores por peli"
   ]
  },
  {
   "cell_type": "code",
   "execution_count": 2,
   "metadata": {},
   "outputs": [
    {
     "name": "stdout",
     "output_type": "stream",
     "text": [
      "0    tt0090665\n",
      "1    tt0091899\n",
      "2    tt0095840\n",
      "Name: ID, dtype: object\n"
     ]
    }
   ],
   "source": [
    "comedy= pd.read_csv(\"DEFINNITIVO_datos1990-2023_Comedy.csv\")\n",
    "\n",
    "lista_comedy= comedy[:3]\n",
    "\n",
    "print(lista_comedy[\"ID\"])\n",
    "\n"
   ]
  },
  {
   "cell_type": "code",
   "execution_count": 4,
   "metadata": {},
   "outputs": [
    {
     "name": "stderr",
     "output_type": "stream",
     "text": [
      "100%|██████████| 3/3 [08:59<00:00, 179.71s/it]\n"
     ]
    },
    {
     "name": "stdout",
     "output_type": "stream",
     "text": [
      "[('Selim Boughedir', 'Mustapha Adouani', 'Rabiah Ben-Abdullah', 'Mohamed Driss', 'Hélène Catzaras', 'Fatma Ben Saïdane', 'Abdelhamid Guayas', 'Jamel Sassi', 'Radhouane Meddeb', 'Carolyn Chelby', 'tt0090665'), ('Andrea Beltrão', 'Herson Capri', 'Nuno Leal Maia', 'Monique Evans', 'Susana Matos', 'Mário Gomes', 'Isadora Ribeiro', 'Leo Jaime', 'Roberta Close', 'Ivon Cury', 'tt0091899'), ('Roger Rodd', 'Denise Dougherty', 'James R. Sweeney', 'Jean Carol', 'Charla Driver', 'George Dunn', 'Blake Bahner', 'Ronald Paul Ramirez', 'Jerry Neal', 'Ted Buck', 'tt0095840')]\n"
     ]
    }
   ],
   "source": [
    "driver = webdriver.Chrome()\n",
    "\n",
    "driver.maximize_window()\n",
    "\n",
    "driver.get(\"https://www.imdb.com/\")\n",
    "\n",
    "# for eleccion_peli in archivo_peliculas[\"ID\"]:    \n",
    "    \n",
    "#     titulo = archivo_peliculas[\"Título\"]\n",
    "#     print(eleccion_peli)\n",
    "\n",
    "# for eleccion_peli in archivo_peliculas[\"ID\"][10:20]:\n",
    "# archivo_peliculas = pd.read_csv(\"TOTAL_PELICULAS_SHORTS.csv\")\n",
    "# print(archivo_peliculas[\"Título\"][0])\n",
    "# print(archivo_peliculas[\"ID\"][0])\n",
    "# Jahrgang 45\n",
    "# tt0059325\n",
    "\n",
    "lista_tupla_actores = []\n",
    "sleep(3)\n",
    "for tupla in tqdm(lista_comedy[\"ID\"]):\n",
    "    driver.find_element(\"css selector\", \"#suggestion-search\").send_keys(tupla, Keys.ENTER)\n",
    "    sleep(5)\n",
    "    driver.find_element(\"css selector\", \"#__next > main > div > section.ipc-page-background.ipc-page-background--base.sc-304f99f6-0.eaRXHu > section > div:nth-child(4) > section > section > div.sc-66ec1b32-0.bGqWwh > div > div:nth-child(2) > ul > li:nth-child(1) > a\").click()\n",
    "    sleep(5)\n",
    "    \n",
    "    lista_actores = []\n",
    "    for i in range(2, 12):\n",
    "        lista_actores.append(driver.find_element(\"css selector\", f\"#fullcredits_content > table.cast_list > tbody > tr:nth-child({i}) > td:nth-child(2) > a\").text)\n",
    "        \n",
    "    lista_actores.append(tupla)\n",
    "    \n",
    "    lista_tupla_actores.append(tuple(lista_actores))\n",
    "    driver.back()\n",
    "    \n",
    "\n",
    "driver.close()  \n",
    "\n",
    "print(lista_tupla_actores)\n"
   ]
  },
  {
   "cell_type": "code",
   "execution_count": null,
   "metadata": {},
   "outputs": [],
   "source": []
  },
  {
   "cell_type": "code",
   "execution_count": null,
   "metadata": {},
   "outputs": [],
   "source": [
    "lista_tupla_actores"
   ]
  },
  {
   "cell_type": "markdown",
   "metadata": {},
   "source": [
    "# Caracteristicas de los actores"
   ]
  },
  {
   "cell_type": "code",
   "execution_count": null,
   "metadata": {},
   "outputs": [],
   "source": [
    "driver = webdriver.Chrome()\n",
    "driver.maximize_window()\n",
    "\n",
    "driver.get(\"https://www.imdb.com/\")\n",
    "lista_detalles_actores = []\n",
    "\n",
    "for actor in tqdm(lista_tupla_actores[0][: 3]):\n",
    "    lista_actores = []\n",
    "    print(actor)\n",
    "    sleep(7)\n",
    "    driver.find_element(\"css selector\", \"#suggestion-search\").send_keys(actor, Keys.ENTER)\n",
    "    \n",
    "    sleep(7)\n",
    "    driver.find_element(\"css selector\", \"#__next > main > div.ipc-page-content-container.ipc-page-content-container--full.sc-383f2ac5-0.bfcGjo > div.ipc-page-content-container.ipc-page-content-container--center > section > div > div.ipc-page-grid__item.ipc-page-grid__item--span-2 > section:nth-child(3) > div.sc-17bafbdb-2.ffAEHI > ul > li:nth-child(1)\").click()\n",
    "    try: \n",
    "        año = driver.find_element(\"css selector\", \"#__next > main > div > section.ipc-page-background.ipc-page-background--base.sc-304f99f6-0.eaRXHu > section > div:nth-child(4) > section > section > div.sc-e226b0e3-4.femeOx > div > div.sc-e226b0e3-11.gOzomZ > section > aside > div > span:nth-child(2)\").text.split(\",\")[-1] \n",
    "    except:\n",
    "        año = \"desconocido\"\n",
    "    conocido = driver.find_element(\"css selector\", \"#__next > main > div > section.ipc-page-background.ipc-page-background--base.sc-304f99f6-0.eaRXHu > div > section > div > div.sc-9178d6fe-1.kFxVZc.ipc-page-grid__item.ipc-page-grid__item--span-2 > div.celwidget > section:nth-child(1) > div.sc-a6d4b6c0-0.jGufEe > div > div.ipc-sub-grid.ipc-sub-grid--page-span-2.ipc-sub-grid--wraps-at-above-l.ipc-shoveler__grid\").text\n",
    "    que_hace = driver.find_element(\"css selector\", \"#__next > main > div > section.ipc-page-background.ipc-page-background--base.sc-304f99f6-0.eaRXHu > section > div:nth-child(4) > section > section > div.sc-e226b0e3-3.jJsEuz > div > ul > li\").text\n",
    "    lista_caracteristicas = []\n",
    "    \n",
    "    lista_caracteristicas.append(año)\n",
    "    lista_caracteristicas.append(conocido)\n",
    "    lista_caracteristicas.append(que_hace)\n",
    "    lista_caracteristicas.append(actor)\n",
    "    lista_detalles_actores.append(tuple(lista_caracteristicas))\n",
    "    driver.back()\n",
    "    \n",
    "\n",
    "driver.close()\n",
    "\n"
   ]
  },
  {
   "cell_type": "code",
   "execution_count": null,
   "metadata": {},
   "outputs": [],
   "source": [
    "lista_detalles_actores"
   ]
  },
  {
   "cell_type": "code",
   "execution_count": null,
   "metadata": {},
   "outputs": [],
   "source": []
  }
 ],
 "metadata": {
  "kernelspec": {
   "display_name": "promof",
   "language": "python",
   "name": "python3"
  },
  "language_info": {
   "codemirror_mode": {
    "name": "ipython",
    "version": 3
   },
   "file_extension": ".py",
   "mimetype": "text/x-python",
   "name": "python",
   "nbconvert_exporter": "python",
   "pygments_lexer": "ipython3",
   "version": "3.9.7"
  }
 },
 "nbformat": 4,
 "nbformat_minor": 2
}
